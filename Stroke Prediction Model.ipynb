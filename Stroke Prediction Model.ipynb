{
 "metadata": {
  "language_info": {
   "codemirror_mode": {
    "name": "ipython",
    "version": 3
   },
   "file_extension": ".py",
   "mimetype": "text/x-python",
   "name": "python",
   "nbconvert_exporter": "python",
   "pygments_lexer": "ipython3",
   "version": "3.7.9"
  },
  "orig_nbformat": 2,
  "kernelspec": {
   "name": "python379jvsc74a57bd040657ae3e5ea92961d886c05223b9a1c1fda2d3d94c3ff2ccb0935a829afe783",
   "display_name": "Python 3.7.9 64-bit"
  },
  "metadata": {
   "interpreter": {
    "hash": "40657ae3e5ea92961d886c05223b9a1c1fda2d3d94c3ff2ccb0935a829afe783"
   }
  }
 },
 "nbformat": 4,
 "nbformat_minor": 2,
 "cells": [
  {
   "source": [
    "# Stroke Prediction Model \n"
   ],
   "cell_type": "markdown",
   "metadata": {}
  },
  {
   "cell_type": "code",
   "execution_count": 74,
   "metadata": {},
   "outputs": [],
   "source": [
    "import matplotlib.pyplot as plt\n",
    "import pandas as pd\n",
    "import tensorflow as tf\n",
    "from tensorflow import keras\n",
    "from tensorflow.keras import layers\n",
    "from sklearn.model_selection import train_test_split\n",
    "from tensorflow.keras.layers.experimental import preprocessing\n",
    "import seaborn as sns\n",
    "import numpy as np"
   ]
  },
  {
   "source": [
    "## Step 1 : Data Cleaning \n",
    "- read raw data from csv file\n",
    "- remove row that contains unknown value\n",
    "- transform datatype for certain column from String/object to int64 \n",
    "- Separate the dataset into train(80%) and test(20%)\n"
   ],
   "cell_type": "markdown",
   "metadata": {}
  },
  {
   "cell_type": "code",
   "execution_count": 75,
   "metadata": {},
   "outputs": [],
   "source": [
    "# read raw data\n",
    "dataset = pd.read_csv('E:\\Personal Project\\Stroke Prediction Dataset\\Dataset\\healthcare-dataset-stroke-data.csv', encoding='utf-8')\n",
    "            #usecols=['gender', 'age', 'hypertension', 'heart_disease', 'ever_married', 'work_type', 'Residence_type', 'avg_glucose_level', 'bmi', 'smoking_status', 'stroke'])\n"
   ]
  },
  {
   "cell_type": "code",
   "execution_count": 76,
   "metadata": {},
   "outputs": [
    {
     "output_type": "execute_result",
     "data": {
      "text/plain": [
       "Text(0, 0.5, 'Frequency')"
      ]
     },
     "metadata": {},
     "execution_count": 76
    },
    {
     "output_type": "display_data",
     "data": {
      "text/plain": "<Figure size 432x288 with 1 Axes>",
      "image/svg+xml": "<?xml version=\"1.0\" encoding=\"utf-8\" standalone=\"no\"?>\r\n<!DOCTYPE svg PUBLIC \"-//W3C//DTD SVG 1.1//EN\"\r\n  \"http://www.w3.org/Graphics/SVG/1.1/DTD/svg11.dtd\">\r\n<svg height=\"277.314375pt\" version=\"1.1\" viewBox=\"0 0 395.328125 277.314375\" width=\"395.328125pt\" xmlns=\"http://www.w3.org/2000/svg\" xmlns:xlink=\"http://www.w3.org/1999/xlink\">\r\n <metadata>\r\n  <rdf:RDF xmlns:cc=\"http://creativecommons.org/ns#\" xmlns:dc=\"http://purl.org/dc/elements/1.1/\" xmlns:rdf=\"http://www.w3.org/1999/02/22-rdf-syntax-ns#\">\r\n   <cc:Work>\r\n    <dc:type rdf:resource=\"http://purl.org/dc/dcmitype/StillImage\"/>\r\n    <dc:date>2021-05-23T13:28:00.190904</dc:date>\r\n    <dc:format>image/svg+xml</dc:format>\r\n    <dc:creator>\r\n     <cc:Agent>\r\n      <dc:title>Matplotlib v3.4.1, https://matplotlib.org/</dc:title>\r\n     </cc:Agent>\r\n    </dc:creator>\r\n   </cc:Work>\r\n  </rdf:RDF>\r\n </metadata>\r\n <defs>\r\n  <style type=\"text/css\">*{stroke-linecap:butt;stroke-linejoin:round;}</style>\r\n </defs>\r\n <g id=\"figure_1\">\r\n  <g id=\"patch_1\">\r\n   <path d=\"M 0 277.314375 \r\nL 395.328125 277.314375 \r\nL 395.328125 0 \r\nL 0 0 \r\nz\r\n\" style=\"fill:none;\"/>\r\n  </g>\r\n  <g id=\"axes_1\">\r\n   <g id=\"patch_2\">\r\n    <path d=\"M 53.328125 239.758125 \r\nL 388.128125 239.758125 \r\nL 388.128125 22.318125 \r\nL 53.328125 22.318125 \r\nz\r\n\" style=\"fill:#ffffff;\"/>\r\n   </g>\r\n   <g id=\"patch_3\">\r\n    <path clip-path=\"url(#p50438ae55b)\" d=\"M 95.178125 239.758125 \r\nL 178.878125 239.758125 \r\nL 178.878125 32.672411 \r\nL 95.178125 32.672411 \r\nz\r\n\" style=\"fill:#1f77b4;\"/>\r\n   </g>\r\n   <g id=\"patch_4\">\r\n    <path clip-path=\"url(#p50438ae55b)\" d=\"M 262.578125 239.758125 \r\nL 346.278125 239.758125 \r\nL 346.278125 229.150361 \r\nL 262.578125 229.150361 \r\nz\r\n\" style=\"fill:#1f77b4;\"/>\r\n   </g>\r\n   <g id=\"matplotlib.axis_1\">\r\n    <g id=\"xtick_1\">\r\n     <g id=\"line2d_1\">\r\n      <defs>\r\n       <path d=\"M 0 0 \r\nL 0 3.5 \r\n\" id=\"md940afb69c\" style=\"stroke:#000000;stroke-width:0.8;\"/>\r\n      </defs>\r\n      <g>\r\n       <use style=\"stroke:#000000;stroke-width:0.8;\" x=\"137.028125\" xlink:href=\"#md940afb69c\" y=\"239.758125\"/>\r\n      </g>\r\n     </g>\r\n     <g id=\"text_1\">\r\n      <!-- 0 -->\r\n      <g transform=\"translate(133.846875 254.356562)scale(0.1 -0.1)\">\r\n       <defs>\r\n        <path d=\"M 2034 4250 \r\nQ 1547 4250 1301 3770 \r\nQ 1056 3291 1056 2328 \r\nQ 1056 1369 1301 889 \r\nQ 1547 409 2034 409 \r\nQ 2525 409 2770 889 \r\nQ 3016 1369 3016 2328 \r\nQ 3016 3291 2770 3770 \r\nQ 2525 4250 2034 4250 \r\nz\r\nM 2034 4750 \r\nQ 2819 4750 3233 4129 \r\nQ 3647 3509 3647 2328 \r\nQ 3647 1150 3233 529 \r\nQ 2819 -91 2034 -91 \r\nQ 1250 -91 836 529 \r\nQ 422 1150 422 2328 \r\nQ 422 3509 836 4129 \r\nQ 1250 4750 2034 4750 \r\nz\r\n\" id=\"DejaVuSans-30\" transform=\"scale(0.015625)\"/>\r\n       </defs>\r\n       <use xlink:href=\"#DejaVuSans-30\"/>\r\n      </g>\r\n     </g>\r\n    </g>\r\n    <g id=\"xtick_2\">\r\n     <g id=\"line2d_2\">\r\n      <g>\r\n       <use style=\"stroke:#000000;stroke-width:0.8;\" x=\"304.428125\" xlink:href=\"#md940afb69c\" y=\"239.758125\"/>\r\n      </g>\r\n     </g>\r\n     <g id=\"text_2\">\r\n      <!-- 1 -->\r\n      <g transform=\"translate(301.246875 254.356562)scale(0.1 -0.1)\">\r\n       <defs>\r\n        <path d=\"M 794 531 \r\nL 1825 531 \r\nL 1825 4091 \r\nL 703 3866 \r\nL 703 4441 \r\nL 1819 4666 \r\nL 2450 4666 \r\nL 2450 531 \r\nL 3481 531 \r\nL 3481 0 \r\nL 794 0 \r\nL 794 531 \r\nz\r\n\" id=\"DejaVuSans-31\" transform=\"scale(0.015625)\"/>\r\n       </defs>\r\n       <use xlink:href=\"#DejaVuSans-31\"/>\r\n      </g>\r\n     </g>\r\n    </g>\r\n    <g id=\"text_3\">\r\n     <!-- Stroke -->\r\n     <g transform=\"translate(204.800781 268.034687)scale(0.1 -0.1)\">\r\n      <defs>\r\n       <path d=\"M 3425 4513 \r\nL 3425 3897 \r\nQ 3066 4069 2747 4153 \r\nQ 2428 4238 2131 4238 \r\nQ 1616 4238 1336 4038 \r\nQ 1056 3838 1056 3469 \r\nQ 1056 3159 1242 3001 \r\nQ 1428 2844 1947 2747 \r\nL 2328 2669 \r\nQ 3034 2534 3370 2195 \r\nQ 3706 1856 3706 1288 \r\nQ 3706 609 3251 259 \r\nQ 2797 -91 1919 -91 \r\nQ 1588 -91 1214 -16 \r\nQ 841 59 441 206 \r\nL 441 856 \r\nQ 825 641 1194 531 \r\nQ 1563 422 1919 422 \r\nQ 2459 422 2753 634 \r\nQ 3047 847 3047 1241 \r\nQ 3047 1584 2836 1778 \r\nQ 2625 1972 2144 2069 \r\nL 1759 2144 \r\nQ 1053 2284 737 2584 \r\nQ 422 2884 422 3419 \r\nQ 422 4038 858 4394 \r\nQ 1294 4750 2059 4750 \r\nQ 2388 4750 2728 4690 \r\nQ 3069 4631 3425 4513 \r\nz\r\n\" id=\"DejaVuSans-53\" transform=\"scale(0.015625)\"/>\r\n       <path d=\"M 1172 4494 \r\nL 1172 3500 \r\nL 2356 3500 \r\nL 2356 3053 \r\nL 1172 3053 \r\nL 1172 1153 \r\nQ 1172 725 1289 603 \r\nQ 1406 481 1766 481 \r\nL 2356 481 \r\nL 2356 0 \r\nL 1766 0 \r\nQ 1100 0 847 248 \r\nQ 594 497 594 1153 \r\nL 594 3053 \r\nL 172 3053 \r\nL 172 3500 \r\nL 594 3500 \r\nL 594 4494 \r\nL 1172 4494 \r\nz\r\n\" id=\"DejaVuSans-74\" transform=\"scale(0.015625)\"/>\r\n       <path d=\"M 2631 2963 \r\nQ 2534 3019 2420 3045 \r\nQ 2306 3072 2169 3072 \r\nQ 1681 3072 1420 2755 \r\nQ 1159 2438 1159 1844 \r\nL 1159 0 \r\nL 581 0 \r\nL 581 3500 \r\nL 1159 3500 \r\nL 1159 2956 \r\nQ 1341 3275 1631 3429 \r\nQ 1922 3584 2338 3584 \r\nQ 2397 3584 2469 3576 \r\nQ 2541 3569 2628 3553 \r\nL 2631 2963 \r\nz\r\n\" id=\"DejaVuSans-72\" transform=\"scale(0.015625)\"/>\r\n       <path d=\"M 1959 3097 \r\nQ 1497 3097 1228 2736 \r\nQ 959 2375 959 1747 \r\nQ 959 1119 1226 758 \r\nQ 1494 397 1959 397 \r\nQ 2419 397 2687 759 \r\nQ 2956 1122 2956 1747 \r\nQ 2956 2369 2687 2733 \r\nQ 2419 3097 1959 3097 \r\nz\r\nM 1959 3584 \r\nQ 2709 3584 3137 3096 \r\nQ 3566 2609 3566 1747 \r\nQ 3566 888 3137 398 \r\nQ 2709 -91 1959 -91 \r\nQ 1206 -91 779 398 \r\nQ 353 888 353 1747 \r\nQ 353 2609 779 3096 \r\nQ 1206 3584 1959 3584 \r\nz\r\n\" id=\"DejaVuSans-6f\" transform=\"scale(0.015625)\"/>\r\n       <path d=\"M 581 4863 \r\nL 1159 4863 \r\nL 1159 1991 \r\nL 2875 3500 \r\nL 3609 3500 \r\nL 1753 1863 \r\nL 3688 0 \r\nL 2938 0 \r\nL 1159 1709 \r\nL 1159 0 \r\nL 581 0 \r\nL 581 4863 \r\nz\r\n\" id=\"DejaVuSans-6b\" transform=\"scale(0.015625)\"/>\r\n       <path d=\"M 3597 1894 \r\nL 3597 1613 \r\nL 953 1613 \r\nQ 991 1019 1311 708 \r\nQ 1631 397 2203 397 \r\nQ 2534 397 2845 478 \r\nQ 3156 559 3463 722 \r\nL 3463 178 \r\nQ 3153 47 2828 -22 \r\nQ 2503 -91 2169 -91 \r\nQ 1331 -91 842 396 \r\nQ 353 884 353 1716 \r\nQ 353 2575 817 3079 \r\nQ 1281 3584 2069 3584 \r\nQ 2775 3584 3186 3129 \r\nQ 3597 2675 3597 1894 \r\nz\r\nM 3022 2063 \r\nQ 3016 2534 2758 2815 \r\nQ 2500 3097 2075 3097 \r\nQ 1594 3097 1305 2825 \r\nQ 1016 2553 972 2059 \r\nL 3022 2063 \r\nz\r\n\" id=\"DejaVuSans-65\" transform=\"scale(0.015625)\"/>\r\n      </defs>\r\n      <use xlink:href=\"#DejaVuSans-53\"/>\r\n      <use x=\"63.476562\" xlink:href=\"#DejaVuSans-74\"/>\r\n      <use x=\"102.685547\" xlink:href=\"#DejaVuSans-72\"/>\r\n      <use x=\"141.548828\" xlink:href=\"#DejaVuSans-6f\"/>\r\n      <use x=\"202.730469\" xlink:href=\"#DejaVuSans-6b\"/>\r\n      <use x=\"257.015625\" xlink:href=\"#DejaVuSans-65\"/>\r\n     </g>\r\n    </g>\r\n   </g>\r\n   <g id=\"matplotlib.axis_2\">\r\n    <g id=\"ytick_1\">\r\n     <g id=\"line2d_3\">\r\n      <defs>\r\n       <path d=\"M 0 0 \r\nL -3.5 0 \r\n\" id=\"m053a7070af\" style=\"stroke:#000000;stroke-width:0.8;\"/>\r\n      </defs>\r\n      <g>\r\n       <use style=\"stroke:#000000;stroke-width:0.8;\" x=\"53.328125\" xlink:href=\"#m053a7070af\" y=\"239.758125\"/>\r\n      </g>\r\n     </g>\r\n     <g id=\"text_4\">\r\n      <!-- 0 -->\r\n      <g transform=\"translate(39.965625 243.557344)scale(0.1 -0.1)\">\r\n       <use xlink:href=\"#DejaVuSans-30\"/>\r\n      </g>\r\n     </g>\r\n    </g>\r\n    <g id=\"ytick_2\">\r\n     <g id=\"line2d_4\">\r\n      <g>\r\n       <use style=\"stroke:#000000;stroke-width:0.8;\" x=\"53.328125\" xlink:href=\"#m053a7070af\" y=\"197.156661\"/>\r\n      </g>\r\n     </g>\r\n     <g id=\"text_5\">\r\n      <!-- 1000 -->\r\n      <g transform=\"translate(20.878125 200.95588)scale(0.1 -0.1)\">\r\n       <use xlink:href=\"#DejaVuSans-31\"/>\r\n       <use x=\"63.623047\" xlink:href=\"#DejaVuSans-30\"/>\r\n       <use x=\"127.246094\" xlink:href=\"#DejaVuSans-30\"/>\r\n       <use x=\"190.869141\" xlink:href=\"#DejaVuSans-30\"/>\r\n      </g>\r\n     </g>\r\n    </g>\r\n    <g id=\"ytick_3\">\r\n     <g id=\"line2d_5\">\r\n      <g>\r\n       <use style=\"stroke:#000000;stroke-width:0.8;\" x=\"53.328125\" xlink:href=\"#m053a7070af\" y=\"154.555198\"/>\r\n      </g>\r\n     </g>\r\n     <g id=\"text_6\">\r\n      <!-- 2000 -->\r\n      <g transform=\"translate(20.878125 158.354417)scale(0.1 -0.1)\">\r\n       <defs>\r\n        <path d=\"M 1228 531 \r\nL 3431 531 \r\nL 3431 0 \r\nL 469 0 \r\nL 469 531 \r\nQ 828 903 1448 1529 \r\nQ 2069 2156 2228 2338 \r\nQ 2531 2678 2651 2914 \r\nQ 2772 3150 2772 3378 \r\nQ 2772 3750 2511 3984 \r\nQ 2250 4219 1831 4219 \r\nQ 1534 4219 1204 4116 \r\nQ 875 4013 500 3803 \r\nL 500 4441 \r\nQ 881 4594 1212 4672 \r\nQ 1544 4750 1819 4750 \r\nQ 2544 4750 2975 4387 \r\nQ 3406 4025 3406 3419 \r\nQ 3406 3131 3298 2873 \r\nQ 3191 2616 2906 2266 \r\nQ 2828 2175 2409 1742 \r\nQ 1991 1309 1228 531 \r\nz\r\n\" id=\"DejaVuSans-32\" transform=\"scale(0.015625)\"/>\r\n       </defs>\r\n       <use xlink:href=\"#DejaVuSans-32\"/>\r\n       <use x=\"63.623047\" xlink:href=\"#DejaVuSans-30\"/>\r\n       <use x=\"127.246094\" xlink:href=\"#DejaVuSans-30\"/>\r\n       <use x=\"190.869141\" xlink:href=\"#DejaVuSans-30\"/>\r\n      </g>\r\n     </g>\r\n    </g>\r\n    <g id=\"ytick_4\">\r\n     <g id=\"line2d_6\">\r\n      <g>\r\n       <use style=\"stroke:#000000;stroke-width:0.8;\" x=\"53.328125\" xlink:href=\"#m053a7070af\" y=\"111.953734\"/>\r\n      </g>\r\n     </g>\r\n     <g id=\"text_7\">\r\n      <!-- 3000 -->\r\n      <g transform=\"translate(20.878125 115.752953)scale(0.1 -0.1)\">\r\n       <defs>\r\n        <path d=\"M 2597 2516 \r\nQ 3050 2419 3304 2112 \r\nQ 3559 1806 3559 1356 \r\nQ 3559 666 3084 287 \r\nQ 2609 -91 1734 -91 \r\nQ 1441 -91 1130 -33 \r\nQ 819 25 488 141 \r\nL 488 750 \r\nQ 750 597 1062 519 \r\nQ 1375 441 1716 441 \r\nQ 2309 441 2620 675 \r\nQ 2931 909 2931 1356 \r\nQ 2931 1769 2642 2001 \r\nQ 2353 2234 1838 2234 \r\nL 1294 2234 \r\nL 1294 2753 \r\nL 1863 2753 \r\nQ 2328 2753 2575 2939 \r\nQ 2822 3125 2822 3475 \r\nQ 2822 3834 2567 4026 \r\nQ 2313 4219 1838 4219 \r\nQ 1578 4219 1281 4162 \r\nQ 984 4106 628 3988 \r\nL 628 4550 \r\nQ 988 4650 1302 4700 \r\nQ 1616 4750 1894 4750 \r\nQ 2613 4750 3031 4423 \r\nQ 3450 4097 3450 3541 \r\nQ 3450 3153 3228 2886 \r\nQ 3006 2619 2597 2516 \r\nz\r\n\" id=\"DejaVuSans-33\" transform=\"scale(0.015625)\"/>\r\n       </defs>\r\n       <use xlink:href=\"#DejaVuSans-33\"/>\r\n       <use x=\"63.623047\" xlink:href=\"#DejaVuSans-30\"/>\r\n       <use x=\"127.246094\" xlink:href=\"#DejaVuSans-30\"/>\r\n       <use x=\"190.869141\" xlink:href=\"#DejaVuSans-30\"/>\r\n      </g>\r\n     </g>\r\n    </g>\r\n    <g id=\"ytick_5\">\r\n     <g id=\"line2d_7\">\r\n      <g>\r\n       <use style=\"stroke:#000000;stroke-width:0.8;\" x=\"53.328125\" xlink:href=\"#m053a7070af\" y=\"69.352271\"/>\r\n      </g>\r\n     </g>\r\n     <g id=\"text_8\">\r\n      <!-- 4000 -->\r\n      <g transform=\"translate(20.878125 73.15149)scale(0.1 -0.1)\">\r\n       <defs>\r\n        <path d=\"M 2419 4116 \r\nL 825 1625 \r\nL 2419 1625 \r\nL 2419 4116 \r\nz\r\nM 2253 4666 \r\nL 3047 4666 \r\nL 3047 1625 \r\nL 3713 1625 \r\nL 3713 1100 \r\nL 3047 1100 \r\nL 3047 0 \r\nL 2419 0 \r\nL 2419 1100 \r\nL 313 1100 \r\nL 313 1709 \r\nL 2253 4666 \r\nz\r\n\" id=\"DejaVuSans-34\" transform=\"scale(0.015625)\"/>\r\n       </defs>\r\n       <use xlink:href=\"#DejaVuSans-34\"/>\r\n       <use x=\"63.623047\" xlink:href=\"#DejaVuSans-30\"/>\r\n       <use x=\"127.246094\" xlink:href=\"#DejaVuSans-30\"/>\r\n       <use x=\"190.869141\" xlink:href=\"#DejaVuSans-30\"/>\r\n      </g>\r\n     </g>\r\n    </g>\r\n    <g id=\"ytick_6\">\r\n     <g id=\"line2d_8\">\r\n      <g>\r\n       <use style=\"stroke:#000000;stroke-width:0.8;\" x=\"53.328125\" xlink:href=\"#m053a7070af\" y=\"26.750807\"/>\r\n      </g>\r\n     </g>\r\n     <g id=\"text_9\">\r\n      <!-- 5000 -->\r\n      <g transform=\"translate(20.878125 30.550026)scale(0.1 -0.1)\">\r\n       <defs>\r\n        <path d=\"M 691 4666 \r\nL 3169 4666 \r\nL 3169 4134 \r\nL 1269 4134 \r\nL 1269 2991 \r\nQ 1406 3038 1543 3061 \r\nQ 1681 3084 1819 3084 \r\nQ 2600 3084 3056 2656 \r\nQ 3513 2228 3513 1497 \r\nQ 3513 744 3044 326 \r\nQ 2575 -91 1722 -91 \r\nQ 1428 -91 1123 -41 \r\nQ 819 9 494 109 \r\nL 494 744 \r\nQ 775 591 1075 516 \r\nQ 1375 441 1709 441 \r\nQ 2250 441 2565 725 \r\nQ 2881 1009 2881 1497 \r\nQ 2881 1984 2565 2268 \r\nQ 2250 2553 1709 2553 \r\nQ 1456 2553 1204 2497 \r\nQ 953 2441 691 2322 \r\nL 691 4666 \r\nz\r\n\" id=\"DejaVuSans-35\" transform=\"scale(0.015625)\"/>\r\n       </defs>\r\n       <use xlink:href=\"#DejaVuSans-35\"/>\r\n       <use x=\"63.623047\" xlink:href=\"#DejaVuSans-30\"/>\r\n       <use x=\"127.246094\" xlink:href=\"#DejaVuSans-30\"/>\r\n       <use x=\"190.869141\" xlink:href=\"#DejaVuSans-30\"/>\r\n      </g>\r\n     </g>\r\n    </g>\r\n    <g id=\"text_10\">\r\n     <!-- Frequency -->\r\n     <g transform=\"translate(14.798438 156.867812)rotate(-90)scale(0.1 -0.1)\">\r\n      <defs>\r\n       <path d=\"M 628 4666 \r\nL 3309 4666 \r\nL 3309 4134 \r\nL 1259 4134 \r\nL 1259 2759 \r\nL 3109 2759 \r\nL 3109 2228 \r\nL 1259 2228 \r\nL 1259 0 \r\nL 628 0 \r\nL 628 4666 \r\nz\r\n\" id=\"DejaVuSans-46\" transform=\"scale(0.015625)\"/>\r\n       <path d=\"M 947 1747 \r\nQ 947 1113 1208 752 \r\nQ 1469 391 1925 391 \r\nQ 2381 391 2643 752 \r\nQ 2906 1113 2906 1747 \r\nQ 2906 2381 2643 2742 \r\nQ 2381 3103 1925 3103 \r\nQ 1469 3103 1208 2742 \r\nQ 947 2381 947 1747 \r\nz\r\nM 2906 525 \r\nQ 2725 213 2448 61 \r\nQ 2172 -91 1784 -91 \r\nQ 1150 -91 751 415 \r\nQ 353 922 353 1747 \r\nQ 353 2572 751 3078 \r\nQ 1150 3584 1784 3584 \r\nQ 2172 3584 2448 3432 \r\nQ 2725 3281 2906 2969 \r\nL 2906 3500 \r\nL 3481 3500 \r\nL 3481 -1331 \r\nL 2906 -1331 \r\nL 2906 525 \r\nz\r\n\" id=\"DejaVuSans-71\" transform=\"scale(0.015625)\"/>\r\n       <path d=\"M 544 1381 \r\nL 544 3500 \r\nL 1119 3500 \r\nL 1119 1403 \r\nQ 1119 906 1312 657 \r\nQ 1506 409 1894 409 \r\nQ 2359 409 2629 706 \r\nQ 2900 1003 2900 1516 \r\nL 2900 3500 \r\nL 3475 3500 \r\nL 3475 0 \r\nL 2900 0 \r\nL 2900 538 \r\nQ 2691 219 2414 64 \r\nQ 2138 -91 1772 -91 \r\nQ 1169 -91 856 284 \r\nQ 544 659 544 1381 \r\nz\r\nM 1991 3584 \r\nL 1991 3584 \r\nz\r\n\" id=\"DejaVuSans-75\" transform=\"scale(0.015625)\"/>\r\n       <path d=\"M 3513 2113 \r\nL 3513 0 \r\nL 2938 0 \r\nL 2938 2094 \r\nQ 2938 2591 2744 2837 \r\nQ 2550 3084 2163 3084 \r\nQ 1697 3084 1428 2787 \r\nQ 1159 2491 1159 1978 \r\nL 1159 0 \r\nL 581 0 \r\nL 581 3500 \r\nL 1159 3500 \r\nL 1159 2956 \r\nQ 1366 3272 1645 3428 \r\nQ 1925 3584 2291 3584 \r\nQ 2894 3584 3203 3211 \r\nQ 3513 2838 3513 2113 \r\nz\r\n\" id=\"DejaVuSans-6e\" transform=\"scale(0.015625)\"/>\r\n       <path d=\"M 3122 3366 \r\nL 3122 2828 \r\nQ 2878 2963 2633 3030 \r\nQ 2388 3097 2138 3097 \r\nQ 1578 3097 1268 2742 \r\nQ 959 2388 959 1747 \r\nQ 959 1106 1268 751 \r\nQ 1578 397 2138 397 \r\nQ 2388 397 2633 464 \r\nQ 2878 531 3122 666 \r\nL 3122 134 \r\nQ 2881 22 2623 -34 \r\nQ 2366 -91 2075 -91 \r\nQ 1284 -91 818 406 \r\nQ 353 903 353 1747 \r\nQ 353 2603 823 3093 \r\nQ 1294 3584 2113 3584 \r\nQ 2378 3584 2631 3529 \r\nQ 2884 3475 3122 3366 \r\nz\r\n\" id=\"DejaVuSans-63\" transform=\"scale(0.015625)\"/>\r\n       <path d=\"M 2059 -325 \r\nQ 1816 -950 1584 -1140 \r\nQ 1353 -1331 966 -1331 \r\nL 506 -1331 \r\nL 506 -850 \r\nL 844 -850 \r\nQ 1081 -850 1212 -737 \r\nQ 1344 -625 1503 -206 \r\nL 1606 56 \r\nL 191 3500 \r\nL 800 3500 \r\nL 1894 763 \r\nL 2988 3500 \r\nL 3597 3500 \r\nL 2059 -325 \r\nz\r\n\" id=\"DejaVuSans-79\" transform=\"scale(0.015625)\"/>\r\n      </defs>\r\n      <use xlink:href=\"#DejaVuSans-46\"/>\r\n      <use x=\"50.269531\" xlink:href=\"#DejaVuSans-72\"/>\r\n      <use x=\"89.132812\" xlink:href=\"#DejaVuSans-65\"/>\r\n      <use x=\"150.65625\" xlink:href=\"#DejaVuSans-71\"/>\r\n      <use x=\"214.132812\" xlink:href=\"#DejaVuSans-75\"/>\r\n      <use x=\"277.511719\" xlink:href=\"#DejaVuSans-65\"/>\r\n      <use x=\"339.035156\" xlink:href=\"#DejaVuSans-6e\"/>\r\n      <use x=\"402.414062\" xlink:href=\"#DejaVuSans-63\"/>\r\n      <use x=\"457.394531\" xlink:href=\"#DejaVuSans-79\"/>\r\n     </g>\r\n    </g>\r\n   </g>\r\n   <g id=\"patch_5\">\r\n    <path d=\"M 53.328125 239.758125 \r\nL 53.328125 22.318125 \r\n\" style=\"fill:none;stroke:#000000;stroke-linecap:square;stroke-linejoin:miter;stroke-width:0.8;\"/>\r\n   </g>\r\n   <g id=\"patch_6\">\r\n    <path d=\"M 388.128125 239.758125 \r\nL 388.128125 22.318125 \r\n\" style=\"fill:none;stroke:#000000;stroke-linecap:square;stroke-linejoin:miter;stroke-width:0.8;\"/>\r\n   </g>\r\n   <g id=\"patch_7\">\r\n    <path d=\"M 53.328125 239.758125 \r\nL 388.128125 239.758125 \r\n\" style=\"fill:none;stroke:#000000;stroke-linecap:square;stroke-linejoin:miter;stroke-width:0.8;\"/>\r\n   </g>\r\n   <g id=\"patch_8\">\r\n    <path d=\"M 53.328125 22.318125 \r\nL 388.128125 22.318125 \r\n\" style=\"fill:none;stroke:#000000;stroke-linecap:square;stroke-linejoin:miter;stroke-width:0.8;\"/>\r\n   </g>\r\n   <g id=\"text_11\">\r\n    <!-- Stroke Class Distribution -->\r\n    <g transform=\"translate(147.014375 16.318125)scale(0.12 -0.12)\">\r\n     <defs>\r\n      <path id=\"DejaVuSans-20\" transform=\"scale(0.015625)\"/>\r\n      <path d=\"M 4122 4306 \r\nL 4122 3641 \r\nQ 3803 3938 3442 4084 \r\nQ 3081 4231 2675 4231 \r\nQ 1875 4231 1450 3742 \r\nQ 1025 3253 1025 2328 \r\nQ 1025 1406 1450 917 \r\nQ 1875 428 2675 428 \r\nQ 3081 428 3442 575 \r\nQ 3803 722 4122 1019 \r\nL 4122 359 \r\nQ 3791 134 3420 21 \r\nQ 3050 -91 2638 -91 \r\nQ 1578 -91 968 557 \r\nQ 359 1206 359 2328 \r\nQ 359 3453 968 4101 \r\nQ 1578 4750 2638 4750 \r\nQ 3056 4750 3426 4639 \r\nQ 3797 4528 4122 4306 \r\nz\r\n\" id=\"DejaVuSans-43\" transform=\"scale(0.015625)\"/>\r\n      <path d=\"M 603 4863 \r\nL 1178 4863 \r\nL 1178 0 \r\nL 603 0 \r\nL 603 4863 \r\nz\r\n\" id=\"DejaVuSans-6c\" transform=\"scale(0.015625)\"/>\r\n      <path d=\"M 2194 1759 \r\nQ 1497 1759 1228 1600 \r\nQ 959 1441 959 1056 \r\nQ 959 750 1161 570 \r\nQ 1363 391 1709 391 \r\nQ 2188 391 2477 730 \r\nQ 2766 1069 2766 1631 \r\nL 2766 1759 \r\nL 2194 1759 \r\nz\r\nM 3341 1997 \r\nL 3341 0 \r\nL 2766 0 \r\nL 2766 531 \r\nQ 2569 213 2275 61 \r\nQ 1981 -91 1556 -91 \r\nQ 1019 -91 701 211 \r\nQ 384 513 384 1019 \r\nQ 384 1609 779 1909 \r\nQ 1175 2209 1959 2209 \r\nL 2766 2209 \r\nL 2766 2266 \r\nQ 2766 2663 2505 2880 \r\nQ 2244 3097 1772 3097 \r\nQ 1472 3097 1187 3025 \r\nQ 903 2953 641 2809 \r\nL 641 3341 \r\nQ 956 3463 1253 3523 \r\nQ 1550 3584 1831 3584 \r\nQ 2591 3584 2966 3190 \r\nQ 3341 2797 3341 1997 \r\nz\r\n\" id=\"DejaVuSans-61\" transform=\"scale(0.015625)\"/>\r\n      <path d=\"M 2834 3397 \r\nL 2834 2853 \r\nQ 2591 2978 2328 3040 \r\nQ 2066 3103 1784 3103 \r\nQ 1356 3103 1142 2972 \r\nQ 928 2841 928 2578 \r\nQ 928 2378 1081 2264 \r\nQ 1234 2150 1697 2047 \r\nL 1894 2003 \r\nQ 2506 1872 2764 1633 \r\nQ 3022 1394 3022 966 \r\nQ 3022 478 2636 193 \r\nQ 2250 -91 1575 -91 \r\nQ 1294 -91 989 -36 \r\nQ 684 19 347 128 \r\nL 347 722 \r\nQ 666 556 975 473 \r\nQ 1284 391 1588 391 \r\nQ 1994 391 2212 530 \r\nQ 2431 669 2431 922 \r\nQ 2431 1156 2273 1281 \r\nQ 2116 1406 1581 1522 \r\nL 1381 1569 \r\nQ 847 1681 609 1914 \r\nQ 372 2147 372 2553 \r\nQ 372 3047 722 3315 \r\nQ 1072 3584 1716 3584 \r\nQ 2034 3584 2315 3537 \r\nQ 2597 3491 2834 3397 \r\nz\r\n\" id=\"DejaVuSans-73\" transform=\"scale(0.015625)\"/>\r\n      <path d=\"M 1259 4147 \r\nL 1259 519 \r\nL 2022 519 \r\nQ 2988 519 3436 956 \r\nQ 3884 1394 3884 2338 \r\nQ 3884 3275 3436 3711 \r\nQ 2988 4147 2022 4147 \r\nL 1259 4147 \r\nz\r\nM 628 4666 \r\nL 1925 4666 \r\nQ 3281 4666 3915 4102 \r\nQ 4550 3538 4550 2338 \r\nQ 4550 1131 3912 565 \r\nQ 3275 0 1925 0 \r\nL 628 0 \r\nL 628 4666 \r\nz\r\n\" id=\"DejaVuSans-44\" transform=\"scale(0.015625)\"/>\r\n      <path d=\"M 603 3500 \r\nL 1178 3500 \r\nL 1178 0 \r\nL 603 0 \r\nL 603 3500 \r\nz\r\nM 603 4863 \r\nL 1178 4863 \r\nL 1178 4134 \r\nL 603 4134 \r\nL 603 4863 \r\nz\r\n\" id=\"DejaVuSans-69\" transform=\"scale(0.015625)\"/>\r\n      <path d=\"M 3116 1747 \r\nQ 3116 2381 2855 2742 \r\nQ 2594 3103 2138 3103 \r\nQ 1681 3103 1420 2742 \r\nQ 1159 2381 1159 1747 \r\nQ 1159 1113 1420 752 \r\nQ 1681 391 2138 391 \r\nQ 2594 391 2855 752 \r\nQ 3116 1113 3116 1747 \r\nz\r\nM 1159 2969 \r\nQ 1341 3281 1617 3432 \r\nQ 1894 3584 2278 3584 \r\nQ 2916 3584 3314 3078 \r\nQ 3713 2572 3713 1747 \r\nQ 3713 922 3314 415 \r\nQ 2916 -91 2278 -91 \r\nQ 1894 -91 1617 61 \r\nQ 1341 213 1159 525 \r\nL 1159 0 \r\nL 581 0 \r\nL 581 4863 \r\nL 1159 4863 \r\nL 1159 2969 \r\nz\r\n\" id=\"DejaVuSans-62\" transform=\"scale(0.015625)\"/>\r\n     </defs>\r\n     <use xlink:href=\"#DejaVuSans-53\"/>\r\n     <use x=\"63.476562\" xlink:href=\"#DejaVuSans-74\"/>\r\n     <use x=\"102.685547\" xlink:href=\"#DejaVuSans-72\"/>\r\n     <use x=\"141.548828\" xlink:href=\"#DejaVuSans-6f\"/>\r\n     <use x=\"202.730469\" xlink:href=\"#DejaVuSans-6b\"/>\r\n     <use x=\"257.015625\" xlink:href=\"#DejaVuSans-65\"/>\r\n     <use x=\"318.539062\" xlink:href=\"#DejaVuSans-20\"/>\r\n     <use x=\"350.326172\" xlink:href=\"#DejaVuSans-43\"/>\r\n     <use x=\"420.150391\" xlink:href=\"#DejaVuSans-6c\"/>\r\n     <use x=\"447.933594\" xlink:href=\"#DejaVuSans-61\"/>\r\n     <use x=\"509.212891\" xlink:href=\"#DejaVuSans-73\"/>\r\n     <use x=\"561.3125\" xlink:href=\"#DejaVuSans-73\"/>\r\n     <use x=\"613.412109\" xlink:href=\"#DejaVuSans-20\"/>\r\n     <use x=\"645.199219\" xlink:href=\"#DejaVuSans-44\"/>\r\n     <use x=\"722.201172\" xlink:href=\"#DejaVuSans-69\"/>\r\n     <use x=\"749.984375\" xlink:href=\"#DejaVuSans-73\"/>\r\n     <use x=\"802.083984\" xlink:href=\"#DejaVuSans-74\"/>\r\n     <use x=\"841.292969\" xlink:href=\"#DejaVuSans-72\"/>\r\n     <use x=\"882.40625\" xlink:href=\"#DejaVuSans-69\"/>\r\n     <use x=\"910.189453\" xlink:href=\"#DejaVuSans-62\"/>\r\n     <use x=\"973.666016\" xlink:href=\"#DejaVuSans-75\"/>\r\n     <use x=\"1037.044922\" xlink:href=\"#DejaVuSans-74\"/>\r\n     <use x=\"1076.253906\" xlink:href=\"#DejaVuSans-69\"/>\r\n     <use x=\"1104.037109\" xlink:href=\"#DejaVuSans-6f\"/>\r\n     <use x=\"1165.21875\" xlink:href=\"#DejaVuSans-6e\"/>\r\n    </g>\r\n   </g>\r\n  </g>\r\n </g>\r\n <defs>\r\n  <clipPath id=\"p50438ae55b\">\r\n   <rect height=\"217.44\" width=\"334.8\" x=\"53.328125\" y=\"22.318125\"/>\r\n  </clipPath>\r\n </defs>\r\n</svg>\r\n",
      "image/png": "[encoded data removed]"
     },
     "metadata": {
      "needs_background": "light"
     }
    }
   ],
   "source": [
    "# explore the dataset and check the balance of dataset\n",
    "count_class = pd.value_counts(dataset['stroke'], sort=True)\n",
    "count_class.plot(kind='bar', rot=0)\n",
    "plt.title('Stroke Class Distribution')\n",
    "plt.xlabel('Stroke')\n",
    "plt.ylabel('Frequency')"
   ]
  },
  {
   "cell_type": "code",
   "execution_count": 77,
   "metadata": {},
   "outputs": [
    {
     "output_type": "stream",
     "name": "stdout",
     "text": [
      "(249, 12) (4861, 12)\n"
     ]
    }
   ],
   "source": [
    "stroke = dataset[dataset['stroke']==1]\n",
    "non_stroke = dataset[dataset['stroke']==0]\n",
    "print(stroke.shape, non_stroke.shape)"
   ]
  },
  {
   "cell_type": "code",
   "execution_count": 78,
   "metadata": {},
   "outputs": [
    {
     "output_type": "stream",
     "name": "stdout",
     "text": [
      "Original dataset size : (5110, 12)\nNew dataset size : (4909, 12)\n"
     ]
    },
    {
     "output_type": "execute_result",
     "data": {
      "text/plain": [
       "         id  gender   age  hypertension  heart_disease ever_married  \\\n",
       "5104  14180  Female  13.0             0              0           No   \n",
       "5106  44873  Female  81.0             0              0          Yes   \n",
       "5107  19723  Female  35.0             0              0          Yes   \n",
       "5108  37544    Male  51.0             0              0          Yes   \n",
       "5109  44679  Female  44.0             0              0          Yes   \n",
       "\n",
       "          work_type Residence_type  avg_glucose_level   bmi   smoking_status  \\\n",
       "5104       children          Rural             103.08  18.6          Unknown   \n",
       "5106  Self-employed          Urban             125.20  40.0     never smoked   \n",
       "5107  Self-employed          Rural              82.99  30.6     never smoked   \n",
       "5108        Private          Rural             166.29  25.6  formerly smoked   \n",
       "5109       Govt_job          Urban              85.28  26.2          Unknown   \n",
       "\n",
       "      stroke  \n",
       "5104       0  \n",
       "5106       0  \n",
       "5107       0  \n",
       "5108       0  \n",
       "5109       0  "
      ],
      "text/html": "<div>\n<style scoped>\n    .dataframe tbody tr th:only-of-type {\n        vertical-align: middle;\n    }\n\n    .dataframe tbody tr th {\n        vertical-align: top;\n    }\n\n    .dataframe thead th {\n        text-align: right;\n    }\n</style>\n<table border=\"1\" class=\"dataframe\">\n  <thead>\n    <tr style=\"text-align: right;\">\n      <th></th>\n      <th>id</th>\n      <th>gender</th>\n      <th>age</th>\n      <th>hypertension</th>\n      <th>heart_disease</th>\n      <th>ever_married</th>\n      <th>work_type</th>\n      <th>Residence_type</th>\n      <th>avg_glucose_level</th>\n      <th>bmi</th>\n      <th>smoking_status</th>\n      <th>stroke</th>\n    </tr>\n  </thead>\n  <tbody>\n    <tr>\n      <th>5104</th>\n      <td>14180</td>\n      <td>Female</td>\n      <td>13.0</td>\n      <td>0</td>\n      <td>0</td>\n      <td>No</td>\n      <td>children</td>\n      <td>Rural</td>\n      <td>103.08</td>\n      <td>18.6</td>\n      <td>Unknown</td>\n      <td>0</td>\n    </tr>\n    <tr>\n      <th>5106</th>\n      <td>44873</td>\n      <td>Female</td>\n      <td>81.0</td>\n      <td>0</td>\n      <td>0</td>\n      <td>Yes</td>\n      <td>Self-employed</td>\n      <td>Urban</td>\n      <td>125.20</td>\n      <td>40.0</td>\n      <td>never smoked</td>\n      <td>0</td>\n    </tr>\n    <tr>\n      <th>5107</th>\n      <td>19723</td>\n      <td>Female</td>\n      <td>35.0</td>\n      <td>0</td>\n      <td>0</td>\n      <td>Yes</td>\n      <td>Self-employed</td>\n      <td>Rural</td>\n      <td>82.99</td>\n      <td>30.6</td>\n      <td>never smoked</td>\n      <td>0</td>\n    </tr>\n    <tr>\n      <th>5108</th>\n      <td>37544</td>\n      <td>Male</td>\n      <td>51.0</td>\n      <td>0</td>\n      <td>0</td>\n      <td>Yes</td>\n      <td>Private</td>\n      <td>Rural</td>\n      <td>166.29</td>\n      <td>25.6</td>\n      <td>formerly smoked</td>\n      <td>0</td>\n    </tr>\n    <tr>\n      <th>5109</th>\n      <td>44679</td>\n      <td>Female</td>\n      <td>44.0</td>\n      <td>0</td>\n      <td>0</td>\n      <td>Yes</td>\n      <td>Govt_job</td>\n      <td>Urban</td>\n      <td>85.28</td>\n      <td>26.2</td>\n      <td>Unknown</td>\n      <td>0</td>\n    </tr>\n  </tbody>\n</table>\n</div>"
     },
     "metadata": {},
     "execution_count": 78
    }
   ],
   "source": [
    "# remove row that contains unknown values\n",
    "print(f'Original dataset size : {dataset.shape}')\n",
    "dataset = dataset.dropna()\n",
    "print(f'New dataset size : {dataset.shape}')\n",
    "dataset.tail()"
   ]
  },
  {
   "cell_type": "code",
   "execution_count": 79,
   "metadata": {},
   "outputs": [
    {
     "output_type": "execute_result",
     "data": {
      "text/plain": [
       "id                     int64\n",
       "gender                object\n",
       "age                  float64\n",
       "hypertension           int64\n",
       "heart_disease          int64\n",
       "ever_married          object\n",
       "work_type             object\n",
       "Residence_type        object\n",
       "avg_glucose_level    float64\n",
       "bmi                  float64\n",
       "smoking_status        object\n",
       "stroke                 int64\n",
       "dtype: object"
      ]
     },
     "metadata": {},
     "execution_count": 79
    }
   ],
   "source": [
    "dataset.dtypes"
   ]
  },
  {
   "cell_type": "code",
   "execution_count": 80,
   "metadata": {},
   "outputs": [
    {
     "output_type": "execute_result",
     "data": {
      "text/plain": [
       "         id  gender   age  hypertension  heart_disease  ever_married  \\\n",
       "0      9046       0  67.0             0              1             1   \n",
       "2     31112       0  80.0             0              1             1   \n",
       "3     60182       1  49.0             0              0             1   \n",
       "4      1665       1  79.0             1              0             1   \n",
       "5     56669       0  81.0             0              0             1   \n",
       "...     ...     ...   ...           ...            ...           ...   \n",
       "5104  14180       1  13.0             0              0             0   \n",
       "5106  44873       1  81.0             0              0             1   \n",
       "5107  19723       1  35.0             0              0             1   \n",
       "5108  37544       0  51.0             0              0             1   \n",
       "5109  44679       1  44.0             0              0             1   \n",
       "\n",
       "      work_type  Residence_type  avg_glucose_level   bmi  smoking_status  \\\n",
       "0             3               1             228.69  36.6               1   \n",
       "2             3               0             105.92  32.5               0   \n",
       "3             3               1             171.23  34.4               2   \n",
       "4             4               0             174.12  24.0               0   \n",
       "5             3               1             186.21  29.0               1   \n",
       "...         ...             ...                ...   ...             ...   \n",
       "5104          1               0             103.08  18.6               3   \n",
       "5106          4               1             125.20  40.0               0   \n",
       "5107          4               0              82.99  30.6               0   \n",
       "5108          3               0             166.29  25.6               1   \n",
       "5109          2               1              85.28  26.2               3   \n",
       "\n",
       "      stroke  \n",
       "0          1  \n",
       "2          1  \n",
       "3          1  \n",
       "4          1  \n",
       "5          1  \n",
       "...      ...  \n",
       "5104       0  \n",
       "5106       0  \n",
       "5107       0  \n",
       "5108       0  \n",
       "5109       0  \n",
       "\n",
       "[4909 rows x 12 columns]"
      ],
      "text/html": "<div>\n<style scoped>\n    .dataframe tbody tr th:only-of-type {\n        vertical-align: middle;\n    }\n\n    .dataframe tbody tr th {\n        vertical-align: top;\n    }\n\n    .dataframe thead th {\n        text-align: right;\n    }\n</style>\n<table border=\"1\" class=\"dataframe\">\n  <thead>\n    <tr style=\"text-align: right;\">\n      <th></th>\n      <th>id</th>\n      <th>gender</th>\n      <th>age</th>\n      <th>hypertension</th>\n      <th>heart_disease</th>\n      <th>ever_married</th>\n      <th>work_type</th>\n      <th>Residence_type</th>\n      <th>avg_glucose_level</th>\n      <th>bmi</th>\n      <th>smoking_status</th>\n      <th>stroke</th>\n    </tr>\n  </thead>\n  <tbody>\n    <tr>\n      <th>0</th>\n      <td>9046</td>\n      <td>0</td>\n      <td>67.0</td>\n      <td>0</td>\n      <td>1</td>\n      <td>1</td>\n      <td>3</td>\n      <td>1</td>\n      <td>228.69</td>\n      <td>36.6</td>\n      <td>1</td>\n      <td>1</td>\n    </tr>\n    <tr>\n      <th>2</th>\n      <td>31112</td>\n      <td>0</td>\n      <td>80.0</td>\n      <td>0</td>\n      <td>1</td>\n      <td>1</td>\n      <td>3</td>\n      <td>0</td>\n      <td>105.92</td>\n      <td>32.5</td>\n      <td>0</td>\n      <td>1</td>\n    </tr>\n    <tr>\n      <th>3</th>\n      <td>60182</td>\n      <td>1</td>\n      <td>49.0</td>\n      <td>0</td>\n      <td>0</td>\n      <td>1</td>\n      <td>3</td>\n      <td>1</td>\n      <td>171.23</td>\n      <td>34.4</td>\n      <td>2</td>\n      <td>1</td>\n    </tr>\n    <tr>\n      <th>4</th>\n      <td>1665</td>\n      <td>1</td>\n      <td>79.0</td>\n      <td>1</td>\n      <td>0</td>\n      <td>1</td>\n      <td>4</td>\n      <td>0</td>\n      <td>174.12</td>\n      <td>24.0</td>\n      <td>0</td>\n      <td>1</td>\n    </tr>\n    <tr>\n      <th>5</th>\n      <td>56669</td>\n      <td>0</td>\n      <td>81.0</td>\n      <td>0</td>\n      <td>0</td>\n      <td>1</td>\n      <td>3</td>\n      <td>1</td>\n      <td>186.21</td>\n      <td>29.0</td>\n      <td>1</td>\n      <td>1</td>\n    </tr>\n    <tr>\n      <th>...</th>\n      <td>...</td>\n      <td>...</td>\n      <td>...</td>\n      <td>...</td>\n      <td>...</td>\n      <td>...</td>\n      <td>...</td>\n      <td>...</td>\n      <td>...</td>\n      <td>...</td>\n      <td>...</td>\n      <td>...</td>\n    </tr>\n    <tr>\n      <th>5104</th>\n      <td>14180</td>\n      <td>1</td>\n      <td>13.0</td>\n      <td>0</td>\n      <td>0</td>\n      <td>0</td>\n      <td>1</td>\n      <td>0</td>\n      <td>103.08</td>\n      <td>18.6</td>\n      <td>3</td>\n      <td>0</td>\n    </tr>\n    <tr>\n      <th>5106</th>\n      <td>44873</td>\n      <td>1</td>\n      <td>81.0</td>\n      <td>0</td>\n      <td>0</td>\n      <td>1</td>\n      <td>4</td>\n      <td>1</td>\n      <td>125.20</td>\n      <td>40.0</td>\n      <td>0</td>\n      <td>0</td>\n    </tr>\n    <tr>\n      <th>5107</th>\n      <td>19723</td>\n      <td>1</td>\n      <td>35.0</td>\n      <td>0</td>\n      <td>0</td>\n      <td>1</td>\n      <td>4</td>\n      <td>0</td>\n      <td>82.99</td>\n      <td>30.6</td>\n      <td>0</td>\n      <td>0</td>\n    </tr>\n    <tr>\n      <th>5108</th>\n      <td>37544</td>\n      <td>0</td>\n      <td>51.0</td>\n      <td>0</td>\n      <td>0</td>\n      <td>1</td>\n      <td>3</td>\n      <td>0</td>\n      <td>166.29</td>\n      <td>25.6</td>\n      <td>1</td>\n      <td>0</td>\n    </tr>\n    <tr>\n      <th>5109</th>\n      <td>44679</td>\n      <td>1</td>\n      <td>44.0</td>\n      <td>0</td>\n      <td>0</td>\n      <td>1</td>\n      <td>2</td>\n      <td>1</td>\n      <td>85.28</td>\n      <td>26.2</td>\n      <td>3</td>\n      <td>0</td>\n    </tr>\n  </tbody>\n</table>\n<p>4909 rows × 12 columns</p>\n</div>"
     },
     "metadata": {},
     "execution_count": 80
    }
   ],
   "source": [
    "# transform datatype for certain column from String/object to int64\n",
    "dataset['gender'] = dataset['gender'].replace({'Male':0, 'Female': 1, 'Other': 2})\n",
    "dataset['ever_married'] = dataset['ever_married'].map({'No': 0, 'Yes': 1})\n",
    "dataset['work_type'] = dataset['work_type'].map({\"Never_worked\": 0, \"children\": 1, \"Govt_job\": 2, \"Private\": 3, \"Self-employed\": 4})\n",
    "dataset['Residence_type'] = dataset['Residence_type'].map({'Rural': 0, 'Urban': 1})\n",
    "dataset['smoking_status'] = dataset['smoking_status'].map({\"never smoked\": 0, \"formerly smoked\": 1, \"smokes\": 2, \"Unknown\": 3})\n",
    "dataset"
   ]
  },
  {
   "cell_type": "code",
   "execution_count": 81,
   "metadata": {},
   "outputs": [
    {
     "output_type": "execute_result",
     "data": {
      "text/plain": [
       "0        9046\n",
       "2       31112\n",
       "3       60182\n",
       "4        1665\n",
       "5       56669\n",
       "        ...  \n",
       "5104    14180\n",
       "5106    44873\n",
       "5107    19723\n",
       "5108    37544\n",
       "5109    44679\n",
       "Name: id, Length: 4909, dtype: int64"
      ]
     },
     "metadata": {},
     "execution_count": 81
    }
   ],
   "source": [
    "dataset.pop('id')"
   ]
  },
  {
   "cell_type": "code",
   "execution_count": 82,
   "metadata": {},
   "outputs": [
    {
     "output_type": "execute_result",
     "data": {
      "text/plain": [
       "      gender   age  hypertension  heart_disease  ever_married  work_type  \\\n",
       "0          0  67.0             0              1             1          3   \n",
       "2          0  80.0             0              1             1          3   \n",
       "3          1  49.0             0              0             1          3   \n",
       "4          1  79.0             1              0             1          4   \n",
       "5          0  81.0             0              0             1          3   \n",
       "...      ...   ...           ...            ...           ...        ...   \n",
       "5104       1  13.0             0              0             0          1   \n",
       "5106       1  81.0             0              0             1          4   \n",
       "5107       1  35.0             0              0             1          4   \n",
       "5108       0  51.0             0              0             1          3   \n",
       "5109       1  44.0             0              0             1          2   \n",
       "\n",
       "      Residence_type  avg_glucose_level   bmi  smoking_status  stroke  \n",
       "0                  1             228.69  36.6               1       1  \n",
       "2                  0             105.92  32.5               0       1  \n",
       "3                  1             171.23  34.4               2       1  \n",
       "4                  0             174.12  24.0               0       1  \n",
       "5                  1             186.21  29.0               1       1  \n",
       "...              ...                ...   ...             ...     ...  \n",
       "5104               0             103.08  18.6               3       0  \n",
       "5106               1             125.20  40.0               0       0  \n",
       "5107               0              82.99  30.6               0       0  \n",
       "5108               0             166.29  25.6               1       0  \n",
       "5109               1              85.28  26.2               3       0  \n",
       "\n",
       "[4909 rows x 11 columns]"
      ],
      "text/html": "<div>\n<style scoped>\n    .dataframe tbody tr th:only-of-type {\n        vertical-align: middle;\n    }\n\n    .dataframe tbody tr th {\n        vertical-align: top;\n    }\n\n    .dataframe thead th {\n        text-align: right;\n    }\n</style>\n<table border=\"1\" class=\"dataframe\">\n  <thead>\n    <tr style=\"text-align: right;\">\n      <th></th>\n      <th>gender</th>\n      <th>age</th>\n      <th>hypertension</th>\n      <th>heart_disease</th>\n      <th>ever_married</th>\n      <th>work_type</th>\n      <th>Residence_type</th>\n      <th>avg_glucose_level</th>\n      <th>bmi</th>\n      <th>smoking_status</th>\n      <th>stroke</th>\n    </tr>\n  </thead>\n  <tbody>\n    <tr>\n      <th>0</th>\n      <td>0</td>\n      <td>67.0</td>\n      <td>0</td>\n      <td>1</td>\n      <td>1</td>\n      <td>3</td>\n      <td>1</td>\n      <td>228.69</td>\n      <td>36.6</td>\n      <td>1</td>\n      <td>1</td>\n    </tr>\n    <tr>\n      <th>2</th>\n      <td>0</td>\n      <td>80.0</td>\n      <td>0</td>\n      <td>1</td>\n      <td>1</td>\n      <td>3</td>\n      <td>0</td>\n      <td>105.92</td>\n      <td>32.5</td>\n      <td>0</td>\n      <td>1</td>\n    </tr>\n    <tr>\n      <th>3</th>\n      <td>1</td>\n      <td>49.0</td>\n      <td>0</td>\n      <td>0</td>\n      <td>1</td>\n      <td>3</td>\n      <td>1</td>\n      <td>171.23</td>\n      <td>34.4</td>\n      <td>2</td>\n      <td>1</td>\n    </tr>\n    <tr>\n      <th>4</th>\n      <td>1</td>\n      <td>79.0</td>\n      <td>1</td>\n      <td>0</td>\n      <td>1</td>\n      <td>4</td>\n      <td>0</td>\n      <td>174.12</td>\n      <td>24.0</td>\n      <td>0</td>\n      <td>1</td>\n    </tr>\n    <tr>\n      <th>5</th>\n      <td>0</td>\n      <td>81.0</td>\n      <td>0</td>\n      <td>0</td>\n      <td>1</td>\n      <td>3</td>\n      <td>1</td>\n      <td>186.21</td>\n      <td>29.0</td>\n      <td>1</td>\n      <td>1</td>\n    </tr>\n    <tr>\n      <th>...</th>\n      <td>...</td>\n      <td>...</td>\n      <td>...</td>\n      <td>...</td>\n      <td>...</td>\n      <td>...</td>\n      <td>...</td>\n      <td>...</td>\n      <td>...</td>\n      <td>...</td>\n      <td>...</td>\n    </tr>\n    <tr>\n      <th>5104</th>\n      <td>1</td>\n      <td>13.0</td>\n      <td>0</td>\n      <td>0</td>\n      <td>0</td>\n      <td>1</td>\n      <td>0</td>\n      <td>103.08</td>\n      <td>18.6</td>\n      <td>3</td>\n      <td>0</td>\n    </tr>\n    <tr>\n      <th>5106</th>\n      <td>1</td>\n      <td>81.0</td>\n      <td>0</td>\n      <td>0</td>\n      <td>1</td>\n      <td>4</td>\n      <td>1</td>\n      <td>125.20</td>\n      <td>40.0</td>\n      <td>0</td>\n      <td>0</td>\n    </tr>\n    <tr>\n      <th>5107</th>\n      <td>1</td>\n      <td>35.0</td>\n      <td>0</td>\n      <td>0</td>\n      <td>1</td>\n      <td>4</td>\n      <td>0</td>\n      <td>82.99</td>\n      <td>30.6</td>\n      <td>0</td>\n      <td>0</td>\n    </tr>\n    <tr>\n      <th>5108</th>\n      <td>0</td>\n      <td>51.0</td>\n      <td>0</td>\n      <td>0</td>\n      <td>1</td>\n      <td>3</td>\n      <td>0</td>\n      <td>166.29</td>\n      <td>25.6</td>\n      <td>1</td>\n      <td>0</td>\n    </tr>\n    <tr>\n      <th>5109</th>\n      <td>1</td>\n      <td>44.0</td>\n      <td>0</td>\n      <td>0</td>\n      <td>1</td>\n      <td>2</td>\n      <td>1</td>\n      <td>85.28</td>\n      <td>26.2</td>\n      <td>3</td>\n      <td>0</td>\n    </tr>\n  </tbody>\n</table>\n<p>4909 rows × 11 columns</p>\n</div>"
     },
     "metadata": {},
     "execution_count": 82
    }
   ],
   "source": [
    "dataset"
   ]
  },
  {
   "cell_type": "code",
   "execution_count": 83,
   "metadata": {},
   "outputs": [
    {
     "output_type": "execute_result",
     "data": {
      "text/plain": [
       "      gender   age  hypertension  heart_disease  ever_married  work_type  \\\n",
       "0          0  67.0             0              1             1          3   \n",
       "2          0  80.0             0              1             1          3   \n",
       "3          1  49.0             0              0             1          3   \n",
       "4          1  79.0             1              0             1          4   \n",
       "5          0  81.0             0              0             1          3   \n",
       "...      ...   ...           ...            ...           ...        ...   \n",
       "5104       1  13.0             0              0             0          1   \n",
       "5106       1  81.0             0              0             1          4   \n",
       "5107       1  35.0             0              0             1          4   \n",
       "5108       0  51.0             0              0             1          3   \n",
       "5109       1  44.0             0              0             1          2   \n",
       "\n",
       "      Residence_type  avg_glucose_level   bmi  smoking_status  stroke  \n",
       "0                  1             228.69  36.6               1       1  \n",
       "2                  0             105.92  32.5               0       1  \n",
       "3                  1             171.23  34.4               2       1  \n",
       "4                  0             174.12  24.0               0       1  \n",
       "5                  1             186.21  29.0               1       1  \n",
       "...              ...                ...   ...             ...     ...  \n",
       "5104               0             103.08  18.6               3       0  \n",
       "5106               1             125.20  40.0               0       0  \n",
       "5107               0              82.99  30.6               0       0  \n",
       "5108               0             166.29  25.6               1       0  \n",
       "5109               1              85.28  26.2               3       0  \n",
       "\n",
       "[4909 rows x 11 columns]"
      ],
      "text/html": "<div>\n<style scoped>\n    .dataframe tbody tr th:only-of-type {\n        vertical-align: middle;\n    }\n\n    .dataframe tbody tr th {\n        vertical-align: top;\n    }\n\n    .dataframe thead th {\n        text-align: right;\n    }\n</style>\n<table border=\"1\" class=\"dataframe\">\n  <thead>\n    <tr style=\"text-align: right;\">\n      <th></th>\n      <th>gender</th>\n      <th>age</th>\n      <th>hypertension</th>\n      <th>heart_disease</th>\n      <th>ever_married</th>\n      <th>work_type</th>\n      <th>Residence_type</th>\n      <th>avg_glucose_level</th>\n      <th>bmi</th>\n      <th>smoking_status</th>\n      <th>stroke</th>\n    </tr>\n  </thead>\n  <tbody>\n    <tr>\n      <th>0</th>\n      <td>0</td>\n      <td>67.0</td>\n      <td>0</td>\n      <td>1</td>\n      <td>1</td>\n      <td>3</td>\n      <td>1</td>\n      <td>228.69</td>\n      <td>36.6</td>\n      <td>1</td>\n      <td>1</td>\n    </tr>\n    <tr>\n      <th>2</th>\n      <td>0</td>\n      <td>80.0</td>\n      <td>0</td>\n      <td>1</td>\n      <td>1</td>\n      <td>3</td>\n      <td>0</td>\n      <td>105.92</td>\n      <td>32.5</td>\n      <td>0</td>\n      <td>1</td>\n    </tr>\n    <tr>\n      <th>3</th>\n      <td>1</td>\n      <td>49.0</td>\n      <td>0</td>\n      <td>0</td>\n      <td>1</td>\n      <td>3</td>\n      <td>1</td>\n      <td>171.23</td>\n      <td>34.4</td>\n      <td>2</td>\n      <td>1</td>\n    </tr>\n    <tr>\n      <th>4</th>\n      <td>1</td>\n      <td>79.0</td>\n      <td>1</td>\n      <td>0</td>\n      <td>1</td>\n      <td>4</td>\n      <td>0</td>\n      <td>174.12</td>\n      <td>24.0</td>\n      <td>0</td>\n      <td>1</td>\n    </tr>\n    <tr>\n      <th>5</th>\n      <td>0</td>\n      <td>81.0</td>\n      <td>0</td>\n      <td>0</td>\n      <td>1</td>\n      <td>3</td>\n      <td>1</td>\n      <td>186.21</td>\n      <td>29.0</td>\n      <td>1</td>\n      <td>1</td>\n    </tr>\n    <tr>\n      <th>...</th>\n      <td>...</td>\n      <td>...</td>\n      <td>...</td>\n      <td>...</td>\n      <td>...</td>\n      <td>...</td>\n      <td>...</td>\n      <td>...</td>\n      <td>...</td>\n      <td>...</td>\n      <td>...</td>\n    </tr>\n    <tr>\n      <th>5104</th>\n      <td>1</td>\n      <td>13.0</td>\n      <td>0</td>\n      <td>0</td>\n      <td>0</td>\n      <td>1</td>\n      <td>0</td>\n      <td>103.08</td>\n      <td>18.6</td>\n      <td>3</td>\n      <td>0</td>\n    </tr>\n    <tr>\n      <th>5106</th>\n      <td>1</td>\n      <td>81.0</td>\n      <td>0</td>\n      <td>0</td>\n      <td>1</td>\n      <td>4</td>\n      <td>1</td>\n      <td>125.20</td>\n      <td>40.0</td>\n      <td>0</td>\n      <td>0</td>\n    </tr>\n    <tr>\n      <th>5107</th>\n      <td>1</td>\n      <td>35.0</td>\n      <td>0</td>\n      <td>0</td>\n      <td>1</td>\n      <td>4</td>\n      <td>0</td>\n      <td>82.99</td>\n      <td>30.6</td>\n      <td>0</td>\n      <td>0</td>\n    </tr>\n    <tr>\n      <th>5108</th>\n      <td>0</td>\n      <td>51.0</td>\n      <td>0</td>\n      <td>0</td>\n      <td>1</td>\n      <td>3</td>\n      <td>0</td>\n      <td>166.29</td>\n      <td>25.6</td>\n      <td>1</td>\n      <td>0</td>\n    </tr>\n    <tr>\n      <th>5109</th>\n      <td>1</td>\n      <td>44.0</td>\n      <td>0</td>\n      <td>0</td>\n      <td>1</td>\n      <td>2</td>\n      <td>1</td>\n      <td>85.28</td>\n      <td>26.2</td>\n      <td>3</td>\n      <td>0</td>\n    </tr>\n  </tbody>\n</table>\n<p>4909 rows × 11 columns</p>\n</div>"
     },
     "metadata": {},
     "execution_count": 83
    }
   ],
   "source": [
    "features = dataset.copy()\n",
    "labels = dataset.pop('stroke')\n",
    "features"
   ]
  },
  {
   "cell_type": "code",
   "execution_count": 84,
   "metadata": {},
   "outputs": [],
   "source": [
    "from imblearn.under_sampling import NearMiss\n",
    "nm = NearMiss(version=1)\n",
    "features, labels = nm.fit_resample(features, labels)"
   ]
  },
  {
   "cell_type": "code",
   "execution_count": 85,
   "metadata": {},
   "outputs": [
    {
     "output_type": "execute_result",
     "data": {
      "text/plain": [
       "     gender   age  hypertension  heart_disease  ever_married  work_type  \\\n",
       "0         1  80.0             0              0             1          4   \n",
       "1         1  79.0             0              0             1          3   \n",
       "2         1  80.0             0              0             1          3   \n",
       "3         1  79.0             0              1             1          4   \n",
       "4         1  80.0             0              0             1          3   \n",
       "..      ...   ...           ...            ...           ...        ...   \n",
       "413       1  68.0             1              1             1          3   \n",
       "414       0  57.0             0              0             1          3   \n",
       "415       1  14.0             0              0             0          1   \n",
       "416       1  75.0             0              0             1          4   \n",
       "417       1  78.0             0              0             1          3   \n",
       "\n",
       "     Residence_type  avg_glucose_level   bmi  smoking_status  stroke  \n",
       "0                 0              72.61  27.6               0       0  \n",
       "1                 1              68.37  24.2               2       0  \n",
       "2                 0              71.88  26.7               0       0  \n",
       "3                 1              67.84  25.2               2       0  \n",
       "4                 1              73.89  26.7               1       0  \n",
       "..              ...                ...   ...             ...     ...  \n",
       "413               1             247.51  40.5               1       1  \n",
       "414               0              84.96  36.7               3       1  \n",
       "415               0              57.93  30.9               3       1  \n",
       "416               0              78.80  29.3               1       1  \n",
       "417               0              78.81  19.6               3       1  \n",
       "\n",
       "[418 rows x 11 columns]"
      ],
      "text/html": "<div>\n<style scoped>\n    .dataframe tbody tr th:only-of-type {\n        vertical-align: middle;\n    }\n\n    .dataframe tbody tr th {\n        vertical-align: top;\n    }\n\n    .dataframe thead th {\n        text-align: right;\n    }\n</style>\n<table border=\"1\" class=\"dataframe\">\n  <thead>\n    <tr style=\"text-align: right;\">\n      <th></th>\n      <th>gender</th>\n      <th>age</th>\n      <th>hypertension</th>\n      <th>heart_disease</th>\n      <th>ever_married</th>\n      <th>work_type</th>\n      <th>Residence_type</th>\n      <th>avg_glucose_level</th>\n      <th>bmi</th>\n      <th>smoking_status</th>\n      <th>stroke</th>\n    </tr>\n  </thead>\n  <tbody>\n    <tr>\n      <th>0</th>\n      <td>1</td>\n      <td>80.0</td>\n      <td>0</td>\n      <td>0</td>\n      <td>1</td>\n      <td>4</td>\n      <td>0</td>\n      <td>72.61</td>\n      <td>27.6</td>\n      <td>0</td>\n      <td>0</td>\n    </tr>\n    <tr>\n      <th>1</th>\n      <td>1</td>\n      <td>79.0</td>\n      <td>0</td>\n      <td>0</td>\n      <td>1</td>\n      <td>3</td>\n      <td>1</td>\n      <td>68.37</td>\n      <td>24.2</td>\n      <td>2</td>\n      <td>0</td>\n    </tr>\n    <tr>\n      <th>2</th>\n      <td>1</td>\n      <td>80.0</td>\n      <td>0</td>\n      <td>0</td>\n      <td>1</td>\n      <td>3</td>\n      <td>0</td>\n      <td>71.88</td>\n      <td>26.7</td>\n      <td>0</td>\n      <td>0</td>\n    </tr>\n    <tr>\n      <th>3</th>\n      <td>1</td>\n      <td>79.0</td>\n      <td>0</td>\n      <td>1</td>\n      <td>1</td>\n      <td>4</td>\n      <td>1</td>\n      <td>67.84</td>\n      <td>25.2</td>\n      <td>2</td>\n      <td>0</td>\n    </tr>\n    <tr>\n      <th>4</th>\n      <td>1</td>\n      <td>80.0</td>\n      <td>0</td>\n      <td>0</td>\n      <td>1</td>\n      <td>3</td>\n      <td>1</td>\n      <td>73.89</td>\n      <td>26.7</td>\n      <td>1</td>\n      <td>0</td>\n    </tr>\n    <tr>\n      <th>...</th>\n      <td>...</td>\n      <td>...</td>\n      <td>...</td>\n      <td>...</td>\n      <td>...</td>\n      <td>...</td>\n      <td>...</td>\n      <td>...</td>\n      <td>...</td>\n      <td>...</td>\n      <td>...</td>\n    </tr>\n    <tr>\n      <th>413</th>\n      <td>1</td>\n      <td>68.0</td>\n      <td>1</td>\n      <td>1</td>\n      <td>1</td>\n      <td>3</td>\n      <td>1</td>\n      <td>247.51</td>\n      <td>40.5</td>\n      <td>1</td>\n      <td>1</td>\n    </tr>\n    <tr>\n      <th>414</th>\n      <td>0</td>\n      <td>57.0</td>\n      <td>0</td>\n      <td>0</td>\n      <td>1</td>\n      <td>3</td>\n      <td>0</td>\n      <td>84.96</td>\n      <td>36.7</td>\n      <td>3</td>\n      <td>1</td>\n    </tr>\n    <tr>\n      <th>415</th>\n      <td>1</td>\n      <td>14.0</td>\n      <td>0</td>\n      <td>0</td>\n      <td>0</td>\n      <td>1</td>\n      <td>0</td>\n      <td>57.93</td>\n      <td>30.9</td>\n      <td>3</td>\n      <td>1</td>\n    </tr>\n    <tr>\n      <th>416</th>\n      <td>1</td>\n      <td>75.0</td>\n      <td>0</td>\n      <td>0</td>\n      <td>1</td>\n      <td>4</td>\n      <td>0</td>\n      <td>78.80</td>\n      <td>29.3</td>\n      <td>1</td>\n      <td>1</td>\n    </tr>\n    <tr>\n      <th>417</th>\n      <td>1</td>\n      <td>78.0</td>\n      <td>0</td>\n      <td>0</td>\n      <td>1</td>\n      <td>3</td>\n      <td>0</td>\n      <td>78.81</td>\n      <td>19.6</td>\n      <td>3</td>\n      <td>1</td>\n    </tr>\n  </tbody>\n</table>\n<p>418 rows × 11 columns</p>\n</div>"
     },
     "metadata": {},
     "execution_count": 85
    }
   ],
   "source": [
    "features"
   ]
  },
  {
   "cell_type": "code",
   "execution_count": 86,
   "metadata": {},
   "outputs": [],
   "source": [
    "# Separate the dataset into train(80%) and test(20%)\n",
    "train_dataset = features.sample(frac=0.8, random_state=0)\n",
    "test_dataset = features.drop(train_dataset.index)"
   ]
  },
  {
   "source": [
    "# inspect the dataset\n",
    "sns.pairplot(train_dataset, diag_kind='kde')"
   ],
   "cell_type": "markdown",
   "metadata": {}
  },
  {
   "cell_type": "code",
   "execution_count": 87,
   "metadata": {},
   "outputs": [
    {
     "output_type": "execute_result",
     "data": {
      "text/plain": [
       "     gender   age  hypertension  heart_disease  ever_married  work_type  \\\n",
       "360       0  63.0             0              0             1          3   \n",
       "170       1  52.0             0              0             1          3   \n",
       "224       1  60.0             0              0             0          3   \n",
       "358       1  32.0             0              0             1          3   \n",
       "309       1  77.0             0              0             1          3   \n",
       "..      ...   ...           ...            ...           ...        ...   \n",
       "48        1  80.0             1              0             1          3   \n",
       "207       1  76.0             0              0             1          2   \n",
       "279       1  70.0             0              1             1          3   \n",
       "227       1  79.0             0              0             1          4   \n",
       "148       1  69.0             0              0             1          4   \n",
       "\n",
       "     Residence_type  avg_glucose_level   bmi  smoking_status  stroke  \n",
       "360               0             137.30  31.7               1       1  \n",
       "170               1              99.10  29.1               3       0  \n",
       "224               1              89.22  37.8               0       1  \n",
       "358               0              76.13  29.9               2       1  \n",
       "309               1             105.22  31.0               0       1  \n",
       "..              ...                ...   ...             ...     ...  \n",
       "48                1              90.77  26.0               0       0  \n",
       "207               1              96.29  25.4               2       0  \n",
       "279               0              59.35  32.3               1       1  \n",
       "227               1             228.70  26.6               0       1  \n",
       "148               1              79.70  25.0               0       0  \n",
       "\n",
       "[334 rows x 11 columns]"
      ],
      "text/html": "<div>\n<style scoped>\n    .dataframe tbody tr th:only-of-type {\n        vertical-align: middle;\n    }\n\n    .dataframe tbody tr th {\n        vertical-align: top;\n    }\n\n    .dataframe thead th {\n        text-align: right;\n    }\n</style>\n<table border=\"1\" class=\"dataframe\">\n  <thead>\n    <tr style=\"text-align: right;\">\n      <th></th>\n      <th>gender</th>\n      <th>age</th>\n      <th>hypertension</th>\n      <th>heart_disease</th>\n      <th>ever_married</th>\n      <th>work_type</th>\n      <th>Residence_type</th>\n      <th>avg_glucose_level</th>\n      <th>bmi</th>\n      <th>smoking_status</th>\n      <th>stroke</th>\n    </tr>\n  </thead>\n  <tbody>\n    <tr>\n      <th>360</th>\n      <td>0</td>\n      <td>63.0</td>\n      <td>0</td>\n      <td>0</td>\n      <td>1</td>\n      <td>3</td>\n      <td>0</td>\n      <td>137.30</td>\n      <td>31.7</td>\n      <td>1</td>\n      <td>1</td>\n    </tr>\n    <tr>\n      <th>170</th>\n      <td>1</td>\n      <td>52.0</td>\n      <td>0</td>\n      <td>0</td>\n      <td>1</td>\n      <td>3</td>\n      <td>1</td>\n      <td>99.10</td>\n      <td>29.1</td>\n      <td>3</td>\n      <td>0</td>\n    </tr>\n    <tr>\n      <th>224</th>\n      <td>1</td>\n      <td>60.0</td>\n      <td>0</td>\n      <td>0</td>\n      <td>0</td>\n      <td>3</td>\n      <td>1</td>\n      <td>89.22</td>\n      <td>37.8</td>\n      <td>0</td>\n      <td>1</td>\n    </tr>\n    <tr>\n      <th>358</th>\n      <td>1</td>\n      <td>32.0</td>\n      <td>0</td>\n      <td>0</td>\n      <td>1</td>\n      <td>3</td>\n      <td>0</td>\n      <td>76.13</td>\n      <td>29.9</td>\n      <td>2</td>\n      <td>1</td>\n    </tr>\n    <tr>\n      <th>309</th>\n      <td>1</td>\n      <td>77.0</td>\n      <td>0</td>\n      <td>0</td>\n      <td>1</td>\n      <td>3</td>\n      <td>1</td>\n      <td>105.22</td>\n      <td>31.0</td>\n      <td>0</td>\n      <td>1</td>\n    </tr>\n    <tr>\n      <th>...</th>\n      <td>...</td>\n      <td>...</td>\n      <td>...</td>\n      <td>...</td>\n      <td>...</td>\n      <td>...</td>\n      <td>...</td>\n      <td>...</td>\n      <td>...</td>\n      <td>...</td>\n      <td>...</td>\n    </tr>\n    <tr>\n      <th>48</th>\n      <td>1</td>\n      <td>80.0</td>\n      <td>1</td>\n      <td>0</td>\n      <td>1</td>\n      <td>3</td>\n      <td>1</td>\n      <td>90.77</td>\n      <td>26.0</td>\n      <td>0</td>\n      <td>0</td>\n    </tr>\n    <tr>\n      <th>207</th>\n      <td>1</td>\n      <td>76.0</td>\n      <td>0</td>\n      <td>0</td>\n      <td>1</td>\n      <td>2</td>\n      <td>1</td>\n      <td>96.29</td>\n      <td>25.4</td>\n      <td>2</td>\n      <td>0</td>\n    </tr>\n    <tr>\n      <th>279</th>\n      <td>1</td>\n      <td>70.0</td>\n      <td>0</td>\n      <td>1</td>\n      <td>1</td>\n      <td>3</td>\n      <td>0</td>\n      <td>59.35</td>\n      <td>32.3</td>\n      <td>1</td>\n      <td>1</td>\n    </tr>\n    <tr>\n      <th>227</th>\n      <td>1</td>\n      <td>79.0</td>\n      <td>0</td>\n      <td>0</td>\n      <td>1</td>\n      <td>4</td>\n      <td>1</td>\n      <td>228.70</td>\n      <td>26.6</td>\n      <td>0</td>\n      <td>1</td>\n    </tr>\n    <tr>\n      <th>148</th>\n      <td>1</td>\n      <td>69.0</td>\n      <td>0</td>\n      <td>0</td>\n      <td>1</td>\n      <td>4</td>\n      <td>1</td>\n      <td>79.70</td>\n      <td>25.0</td>\n      <td>0</td>\n      <td>0</td>\n    </tr>\n  </tbody>\n</table>\n<p>334 rows × 11 columns</p>\n</div>"
     },
     "metadata": {},
     "execution_count": 87
    }
   ],
   "source": [
    "# overall statistics\n",
    "train_dataset"
   ]
  },
  {
   "cell_type": "code",
   "execution_count": 88,
   "metadata": {},
   "outputs": [],
   "source": [
    "# separate the train and test into its features and labels repectively\n",
    "train_features = train_dataset.copy()\n",
    "test_features = test_dataset.copy()\n",
    "\n",
    "train_labels = train_features.pop('stroke')\n",
    "test_labels = test_features.pop('stroke')\n",
    "\n"
   ]
  },
  {
   "cell_type": "code",
   "execution_count": 89,
   "metadata": {},
   "outputs": [
    {
     "output_type": "stream",
     "name": "stdout",
     "text": [
      "Index(['gender', 'age', 'hypertension', 'heart_disease', 'ever_married',\n       'work_type', 'Residence_type', 'avg_glucose_level', 'bmi',\n       'smoking_status'],\n      dtype='object')\n"
     ]
    }
   ],
   "source": [
    "print(train_features.columns)"
   ]
  },
  {
   "source": [
    "## Step 2: Model development\n",
    "- initialize normalizer\n",
    "- initialize Machine Learning Model\n",
    "- Train/Fit the ML Model"
   ],
   "cell_type": "markdown",
   "metadata": {}
  },
  {
   "source": [
    "# initialize normalizer\n",
    "normalizer = preprocessing.Normalization()\n",
    "normalizer.adapt(np.array(train_features))"
   ],
   "cell_type": "code",
   "metadata": {},
   "execution_count": 90,
   "outputs": []
  },
  {
   "cell_type": "code",
   "execution_count": 91,
   "metadata": {},
   "outputs": [
    {
     "output_type": "stream",
     "name": "stdout",
     "text": [
      "Model: \"sequential_3\"\n_________________________________________________________________\nLayer (type)                 Output Shape              Param #   \n=================================================================\ndense_9 (Dense)              (None, 8)                 88        \n_________________________________________________________________\ndense_10 (Dense)             (None, 9)                 81        \n_________________________________________________________________\ndense_11 (Dense)             (None, 1)                 10        \n=================================================================\nTotal params: 179\nTrainable params: 179\nNon-trainable params: 0\n_________________________________________________________________\n"
     ]
    }
   ],
   "source": [
    "# initialize Machine Learning Model\n",
    "model = tf.keras.Sequential()\n",
    "#model.add(normalizer)\n",
    "model.add(layers.Dense(8, activation='relu',  input_shape=(10, )))\n",
    "model.add(layers.Dense(9, activation='relu'))\n",
    "model.add(layers.Dense(1, activation='sigmoid'))\n",
    "\n",
    "model.summary()"
   ]
  },
  {
   "cell_type": "code",
   "execution_count": 92,
   "metadata": {},
   "outputs": [],
   "source": [
    "# Complie the model with optimizer and loss function\n",
    "model.compile(loss='binary_crossentropy', optimizer=tf.optimizers.RMSprop(0.01), metrics=['accuracy'])"
   ]
  },
  {
   "cell_type": "code",
   "execution_count": 93,
   "metadata": {},
   "outputs": [],
   "source": [
    "from keras.callbacks import EarlyStopping, ModelCheckpoint\n",
    "\n",
    "# Find the best model\n",
    "callback_a = ModelCheckpoint(filepath='my_best_model.hdf5', monitor='val_loss', save_best_only=True, save_weights_only=True)\n",
    "callback_b = EarlyStopping(monitor='val_loss', mode='min', patience=20, verbose=1)"
   ]
  },
  {
   "cell_type": "code",
   "execution_count": 94,
   "metadata": {
    "tags": []
   },
   "outputs": [
    {
     "output_type": "stream",
     "name": "stdout",
     "text": [
      "Epoch 1/256\n",
      "34/34 [==============================] - 1s 6ms/step - loss: 2.7499 - accuracy: 0.5445 - val_loss: 0.6859 - val_accuracy: 0.6667\n",
      "Epoch 2/256\n",
      "34/34 [==============================] - 0s 2ms/step - loss: 0.9168 - accuracy: 0.5633 - val_loss: 0.9088 - val_accuracy: 0.5238\n",
      "Epoch 3/256\n",
      "34/34 [==============================] - 0s 2ms/step - loss: 0.8239 - accuracy: 0.5188 - val_loss: 0.7850 - val_accuracy: 0.5595\n",
      "Epoch 4/256\n",
      "34/34 [==============================] - 0s 2ms/step - loss: 0.6954 - accuracy: 0.6417 - val_loss: 0.6686 - val_accuracy: 0.4762\n",
      "Epoch 5/256\n",
      "34/34 [==============================] - 0s 2ms/step - loss: 0.6640 - accuracy: 0.6241 - val_loss: 0.9785 - val_accuracy: 0.5714\n",
      "Epoch 6/256\n",
      "34/34 [==============================] - 0s 2ms/step - loss: 0.7764 - accuracy: 0.5795 - val_loss: 0.6050 - val_accuracy: 0.6786\n",
      "Epoch 7/256\n",
      "34/34 [==============================] - 0s 2ms/step - loss: 0.6571 - accuracy: 0.6449 - val_loss: 0.6615 - val_accuracy: 0.6310\n",
      "Epoch 8/256\n",
      "34/34 [==============================] - 0s 2ms/step - loss: 0.6505 - accuracy: 0.6153 - val_loss: 0.7136 - val_accuracy: 0.5238\n",
      "Epoch 9/256\n",
      "34/34 [==============================] - 0s 2ms/step - loss: 0.6670 - accuracy: 0.5940 - val_loss: 0.6270 - val_accuracy: 0.6786\n",
      "Epoch 10/256\n",
      "34/34 [==============================] - 0s 3ms/step - loss: 0.6316 - accuracy: 0.6195 - val_loss: 0.6117 - val_accuracy: 0.6786\n",
      "Epoch 11/256\n",
      "34/34 [==============================] - 0s 2ms/step - loss: 0.6377 - accuracy: 0.6787 - val_loss: 0.5998 - val_accuracy: 0.6786\n",
      "Epoch 12/256\n",
      "34/34 [==============================] - 0s 2ms/step - loss: 0.6780 - accuracy: 0.6218 - val_loss: 0.5915 - val_accuracy: 0.6667\n",
      "Epoch 13/256\n",
      "34/34 [==============================] - 0s 2ms/step - loss: 0.6506 - accuracy: 0.6239 - val_loss: 0.5943 - val_accuracy: 0.6786\n",
      "Epoch 14/256\n",
      "34/34 [==============================] - 0s 2ms/step - loss: 0.6374 - accuracy: 0.6511 - val_loss: 0.6178 - val_accuracy: 0.6548\n",
      "Epoch 15/256\n",
      "34/34 [==============================] - 0s 2ms/step - loss: 0.6450 - accuracy: 0.6433 - val_loss: 0.6141 - val_accuracy: 0.6429\n",
      "Epoch 16/256\n",
      "34/34 [==============================] - 0s 2ms/step - loss: 0.7123 - accuracy: 0.5861 - val_loss: 0.5968 - val_accuracy: 0.6786\n",
      "Epoch 17/256\n",
      "34/34 [==============================] - 0s 2ms/step - loss: 0.6583 - accuracy: 0.6214 - val_loss: 0.6435 - val_accuracy: 0.6786\n",
      "Epoch 18/256\n",
      "34/34 [==============================] - 0s 2ms/step - loss: 0.6624 - accuracy: 0.6055 - val_loss: 0.5998 - val_accuracy: 0.6429\n",
      "Epoch 19/256\n",
      "34/34 [==============================] - 0s 2ms/step - loss: 0.6863 - accuracy: 0.5312 - val_loss: 0.5978 - val_accuracy: 0.6786\n",
      "Epoch 20/256\n",
      "34/34 [==============================] - 0s 2ms/step - loss: 0.5830 - accuracy: 0.6713 - val_loss: 0.6503 - val_accuracy: 0.6786\n",
      "Epoch 21/256\n",
      "34/34 [==============================] - 0s 2ms/step - loss: 0.6454 - accuracy: 0.6540 - val_loss: 0.6210 - val_accuracy: 0.5357\n",
      "Epoch 22/256\n",
      "34/34 [==============================] - 0s 2ms/step - loss: 0.6563 - accuracy: 0.6288 - val_loss: 0.6394 - val_accuracy: 0.6310\n",
      "Epoch 23/256\n",
      "34/34 [==============================] - 0s 2ms/step - loss: 0.6498 - accuracy: 0.6429 - val_loss: 0.6027 - val_accuracy: 0.6786\n",
      "Epoch 24/256\n",
      "34/34 [==============================] - 0s 2ms/step - loss: 0.6210 - accuracy: 0.6590 - val_loss: 0.6047 - val_accuracy: 0.6786\n",
      "Epoch 25/256\n",
      "34/34 [==============================] - 0s 2ms/step - loss: 0.6527 - accuracy: 0.6397 - val_loss: 0.6069 - val_accuracy: 0.6786\n",
      "Epoch 26/256\n",
      "34/34 [==============================] - 0s 2ms/step - loss: 0.6292 - accuracy: 0.6160 - val_loss: 0.6318 - val_accuracy: 0.6310\n",
      "Epoch 27/256\n",
      "34/34 [==============================] - 0s 2ms/step - loss: 0.6733 - accuracy: 0.6212 - val_loss: 0.6084 - val_accuracy: 0.6548\n",
      "Epoch 28/256\n",
      "34/34 [==============================] - 0s 2ms/step - loss: 0.6104 - accuracy: 0.6570 - val_loss: 0.6901 - val_accuracy: 0.5476\n",
      "Epoch 29/256\n",
      "34/34 [==============================] - 0s 2ms/step - loss: 0.6280 - accuracy: 0.6661 - val_loss: 0.6127 - val_accuracy: 0.6786\n",
      "Epoch 30/256\n",
      "34/34 [==============================] - 0s 2ms/step - loss: 0.6364 - accuracy: 0.6134 - val_loss: 0.6001 - val_accuracy: 0.6667\n",
      "Epoch 31/256\n",
      "34/34 [==============================] - 0s 2ms/step - loss: 0.6099 - accuracy: 0.6170 - val_loss: 0.6690 - val_accuracy: 0.6310\n",
      "Epoch 32/256\n",
      "34/34 [==============================] - 0s 2ms/step - loss: 0.6413 - accuracy: 0.6253 - val_loss: 0.6711 - val_accuracy: 0.5714\n",
      "Epoch 00032: early stopping\n"
     ]
    }
   ],
   "source": [
    "# Train/Fit the ANN Model\n",
    "history = model.fit(train_features,train_labels, epochs=256, validation_data=(test_features, test_labels), batch_size=10, callbacks=[callback_a, callback_b])"
   ]
  },
  {
   "source": [
    "# Step 3 : Visualization and Evaluation"
   ],
   "cell_type": "markdown",
   "metadata": {}
  },
  {
   "cell_type": "code",
   "execution_count": 95,
   "metadata": {},
   "outputs": [
    {
     "output_type": "stream",
     "name": "stdout",
     "text": [
      "{'verbose': 1, 'epochs': 256, 'steps': 34}\n"
     ]
    }
   ],
   "source": [
    "print(history.params)"
   ]
  },
  {
   "cell_type": "code",
   "execution_count": 96,
   "metadata": {},
   "outputs": [
    {
     "output_type": "execute_result",
     "data": {
      "text/plain": [
       "        loss  accuracy  val_loss  val_accuracy  epoch\n",
       "27  0.636562  0.640719  0.690099      0.547619     27\n",
       "28  0.647682  0.619760  0.612682      0.678571     28\n",
       "29  0.641432  0.640719  0.600127      0.666667     29\n",
       "30  0.627719  0.634731  0.668963      0.630952     30\n",
       "31  0.631259  0.637725  0.671143      0.571429     31"
      ],
      "text/html": "<div>\n<style scoped>\n    .dataframe tbody tr th:only-of-type {\n        vertical-align: middle;\n    }\n\n    .dataframe tbody tr th {\n        vertical-align: top;\n    }\n\n    .dataframe thead th {\n        text-align: right;\n    }\n</style>\n<table border=\"1\" class=\"dataframe\">\n  <thead>\n    <tr style=\"text-align: right;\">\n      <th></th>\n      <th>loss</th>\n      <th>accuracy</th>\n      <th>val_loss</th>\n      <th>val_accuracy</th>\n      <th>epoch</th>\n    </tr>\n  </thead>\n  <tbody>\n    <tr>\n      <th>27</th>\n      <td>0.636562</td>\n      <td>0.640719</td>\n      <td>0.690099</td>\n      <td>0.547619</td>\n      <td>27</td>\n    </tr>\n    <tr>\n      <th>28</th>\n      <td>0.647682</td>\n      <td>0.619760</td>\n      <td>0.612682</td>\n      <td>0.678571</td>\n      <td>28</td>\n    </tr>\n    <tr>\n      <th>29</th>\n      <td>0.641432</td>\n      <td>0.640719</td>\n      <td>0.600127</td>\n      <td>0.666667</td>\n      <td>29</td>\n    </tr>\n    <tr>\n      <th>30</th>\n      <td>0.627719</td>\n      <td>0.634731</td>\n      <td>0.668963</td>\n      <td>0.630952</td>\n      <td>30</td>\n    </tr>\n    <tr>\n      <th>31</th>\n      <td>0.631259</td>\n      <td>0.637725</td>\n      <td>0.671143</td>\n      <td>0.571429</td>\n      <td>31</td>\n    </tr>\n  </tbody>\n</table>\n</div>"
     },
     "metadata": {},
     "execution_count": 96
    }
   ],
   "source": [
    "hist = pd.DataFrame(history.history)\n",
    "hist['epoch'] = history.epoch\n",
    "hist.tail()"
   ]
  },
  {
   "cell_type": "code",
   "execution_count": 97,
   "metadata": {},
   "outputs": [
    {
     "output_type": "stream",
     "name": "stdout",
     "text": [
      "3/3 [==============================] - 0s 2ms/step - loss: 0.6711 - accuracy: 0.5714\n",
      "\n",
      "Test accuracy: 0.5714285969734192\n"
     ]
    }
   ],
   "source": [
    "test_loss, test_acc = model.evaluate(test_features, test_labels)\n",
    "print('\\nTest accuracy:', test_acc)"
   ]
  },
  {
   "cell_type": "code",
   "execution_count": 98,
   "metadata": {},
   "outputs": [
    {
     "output_type": "display_data",
     "data": {
      "text/plain": "<Figure size 432x288 with 1 Axes>",
      "image/svg+xml": "<?xml version=\"1.0\" encoding=\"utf-8\" standalone=\"no\"?>\r\n<!DOCTYPE svg PUBLIC \"-//W3C//DTD SVG 1.1//EN\"\r\n  \"http://www.w3.org/Graphics/SVG/1.1/DTD/svg11.dtd\">\r\n<svg height=\"262.19625pt\" version=\"1.1\" viewBox=\"0 0 398.50625 262.19625\" width=\"398.50625pt\" xmlns=\"http://www.w3.org/2000/svg\" xmlns:xlink=\"http://www.w3.org/1999/xlink\">\r\n <metadata>\r\n  <rdf:RDF xmlns:cc=\"http://creativecommons.org/ns#\" xmlns:dc=\"http://purl.org/dc/elements/1.1/\" xmlns:rdf=\"http://www.w3.org/1999/02/22-rdf-syntax-ns#\">\r\n   <cc:Work>\r\n    <dc:type rdf:resource=\"http://purl.org/dc/dcmitype/StillImage\"/>\r\n    <dc:date>2021-05-23T13:28:04.055774</dc:date>\r\n    <dc:format>image/svg+xml</dc:format>\r\n    <dc:creator>\r\n     <cc:Agent>\r\n      <dc:title>Matplotlib v3.4.1, https://matplotlib.org/</dc:title>\r\n     </cc:Agent>\r\n    </dc:creator>\r\n   </cc:Work>\r\n  </rdf:RDF>\r\n </metadata>\r\n <defs>\r\n  <style type=\"text/css\">*{stroke-linecap:butt;stroke-linejoin:round;}</style>\r\n </defs>\r\n <g id=\"figure_1\">\r\n  <g id=\"patch_1\">\r\n   <path d=\"M 0 262.19625 \r\nL 398.50625 262.19625 \r\nL 398.50625 0 \r\nL 0 0 \r\nz\r\n\" style=\"fill:none;\"/>\r\n  </g>\r\n  <g id=\"axes_1\">\r\n   <g id=\"patch_2\">\r\n    <path d=\"M 56.50625 224.64 \r\nL 391.30625 224.64 \r\nL 391.30625 7.2 \r\nL 56.50625 7.2 \r\nz\r\n\" style=\"fill:#ffffff;\"/>\r\n   </g>\r\n   <g id=\"matplotlib.axis_1\">\r\n    <g id=\"xtick_1\">\r\n     <g id=\"line2d_1\">\r\n      <defs>\r\n       <path d=\"M 0 0 \r\nL 0 3.5 \r\n\" id=\"mc1e45faf41\" style=\"stroke:#000000;stroke-width:0.8;\"/>\r\n      </defs>\r\n      <g>\r\n       <use style=\"stroke:#000000;stroke-width:0.8;\" x=\"71.724432\" xlink:href=\"#mc1e45faf41\" y=\"224.64\"/>\r\n      </g>\r\n     </g>\r\n     <g id=\"text_1\">\r\n      <!-- 0 -->\r\n      <g transform=\"translate(68.543182 239.238437)scale(0.1 -0.1)\">\r\n       <defs>\r\n        <path d=\"M 2034 4250 \r\nQ 1547 4250 1301 3770 \r\nQ 1056 3291 1056 2328 \r\nQ 1056 1369 1301 889 \r\nQ 1547 409 2034 409 \r\nQ 2525 409 2770 889 \r\nQ 3016 1369 3016 2328 \r\nQ 3016 3291 2770 3770 \r\nQ 2525 4250 2034 4250 \r\nz\r\nM 2034 4750 \r\nQ 2819 4750 3233 4129 \r\nQ 3647 3509 3647 2328 \r\nQ 3647 1150 3233 529 \r\nQ 2819 -91 2034 -91 \r\nQ 1250 -91 836 529 \r\nQ 422 1150 422 2328 \r\nQ 422 3509 836 4129 \r\nQ 1250 4750 2034 4750 \r\nz\r\n\" id=\"DejaVuSans-30\" transform=\"scale(0.015625)\"/>\r\n       </defs>\r\n       <use xlink:href=\"#DejaVuSans-30\"/>\r\n      </g>\r\n     </g>\r\n    </g>\r\n    <g id=\"xtick_2\">\r\n     <g id=\"line2d_2\">\r\n      <g>\r\n       <use style=\"stroke:#000000;stroke-width:0.8;\" x=\"120.815341\" xlink:href=\"#mc1e45faf41\" y=\"224.64\"/>\r\n      </g>\r\n     </g>\r\n     <g id=\"text_2\">\r\n      <!-- 5 -->\r\n      <g transform=\"translate(117.634091 239.238437)scale(0.1 -0.1)\">\r\n       <defs>\r\n        <path d=\"M 691 4666 \r\nL 3169 4666 \r\nL 3169 4134 \r\nL 1269 4134 \r\nL 1269 2991 \r\nQ 1406 3038 1543 3061 \r\nQ 1681 3084 1819 3084 \r\nQ 2600 3084 3056 2656 \r\nQ 3513 2228 3513 1497 \r\nQ 3513 744 3044 326 \r\nQ 2575 -91 1722 -91 \r\nQ 1428 -91 1123 -41 \r\nQ 819 9 494 109 \r\nL 494 744 \r\nQ 775 591 1075 516 \r\nQ 1375 441 1709 441 \r\nQ 2250 441 2565 725 \r\nQ 2881 1009 2881 1497 \r\nQ 2881 1984 2565 2268 \r\nQ 2250 2553 1709 2553 \r\nQ 1456 2553 1204 2497 \r\nQ 953 2441 691 2322 \r\nL 691 4666 \r\nz\r\n\" id=\"DejaVuSans-35\" transform=\"scale(0.015625)\"/>\r\n       </defs>\r\n       <use xlink:href=\"#DejaVuSans-35\"/>\r\n      </g>\r\n     </g>\r\n    </g>\r\n    <g id=\"xtick_3\">\r\n     <g id=\"line2d_3\">\r\n      <g>\r\n       <use style=\"stroke:#000000;stroke-width:0.8;\" x=\"169.90625\" xlink:href=\"#mc1e45faf41\" y=\"224.64\"/>\r\n      </g>\r\n     </g>\r\n     <g id=\"text_3\">\r\n      <!-- 10 -->\r\n      <g transform=\"translate(163.54375 239.238437)scale(0.1 -0.1)\">\r\n       <defs>\r\n        <path d=\"M 794 531 \r\nL 1825 531 \r\nL 1825 4091 \r\nL 703 3866 \r\nL 703 4441 \r\nL 1819 4666 \r\nL 2450 4666 \r\nL 2450 531 \r\nL 3481 531 \r\nL 3481 0 \r\nL 794 0 \r\nL 794 531 \r\nz\r\n\" id=\"DejaVuSans-31\" transform=\"scale(0.015625)\"/>\r\n       </defs>\r\n       <use xlink:href=\"#DejaVuSans-31\"/>\r\n       <use x=\"63.623047\" xlink:href=\"#DejaVuSans-30\"/>\r\n      </g>\r\n     </g>\r\n    </g>\r\n    <g id=\"xtick_4\">\r\n     <g id=\"line2d_4\">\r\n      <g>\r\n       <use style=\"stroke:#000000;stroke-width:0.8;\" x=\"218.997159\" xlink:href=\"#mc1e45faf41\" y=\"224.64\"/>\r\n      </g>\r\n     </g>\r\n     <g id=\"text_4\">\r\n      <!-- 15 -->\r\n      <g transform=\"translate(212.634659 239.238437)scale(0.1 -0.1)\">\r\n       <use xlink:href=\"#DejaVuSans-31\"/>\r\n       <use x=\"63.623047\" xlink:href=\"#DejaVuSans-35\"/>\r\n      </g>\r\n     </g>\r\n    </g>\r\n    <g id=\"xtick_5\">\r\n     <g id=\"line2d_5\">\r\n      <g>\r\n       <use style=\"stroke:#000000;stroke-width:0.8;\" x=\"268.088068\" xlink:href=\"#mc1e45faf41\" y=\"224.64\"/>\r\n      </g>\r\n     </g>\r\n     <g id=\"text_5\">\r\n      <!-- 20 -->\r\n      <g transform=\"translate(261.725568 239.238437)scale(0.1 -0.1)\">\r\n       <defs>\r\n        <path d=\"M 1228 531 \r\nL 3431 531 \r\nL 3431 0 \r\nL 469 0 \r\nL 469 531 \r\nQ 828 903 1448 1529 \r\nQ 2069 2156 2228 2338 \r\nQ 2531 2678 2651 2914 \r\nQ 2772 3150 2772 3378 \r\nQ 2772 3750 2511 3984 \r\nQ 2250 4219 1831 4219 \r\nQ 1534 4219 1204 4116 \r\nQ 875 4013 500 3803 \r\nL 500 4441 \r\nQ 881 4594 1212 4672 \r\nQ 1544 4750 1819 4750 \r\nQ 2544 4750 2975 4387 \r\nQ 3406 4025 3406 3419 \r\nQ 3406 3131 3298 2873 \r\nQ 3191 2616 2906 2266 \r\nQ 2828 2175 2409 1742 \r\nQ 1991 1309 1228 531 \r\nz\r\n\" id=\"DejaVuSans-32\" transform=\"scale(0.015625)\"/>\r\n       </defs>\r\n       <use xlink:href=\"#DejaVuSans-32\"/>\r\n       <use x=\"63.623047\" xlink:href=\"#DejaVuSans-30\"/>\r\n      </g>\r\n     </g>\r\n    </g>\r\n    <g id=\"xtick_6\">\r\n     <g id=\"line2d_6\">\r\n      <g>\r\n       <use style=\"stroke:#000000;stroke-width:0.8;\" x=\"317.178977\" xlink:href=\"#mc1e45faf41\" y=\"224.64\"/>\r\n      </g>\r\n     </g>\r\n     <g id=\"text_6\">\r\n      <!-- 25 -->\r\n      <g transform=\"translate(310.816477 239.238437)scale(0.1 -0.1)\">\r\n       <use xlink:href=\"#DejaVuSans-32\"/>\r\n       <use x=\"63.623047\" xlink:href=\"#DejaVuSans-35\"/>\r\n      </g>\r\n     </g>\r\n    </g>\r\n    <g id=\"xtick_7\">\r\n     <g id=\"line2d_7\">\r\n      <g>\r\n       <use style=\"stroke:#000000;stroke-width:0.8;\" x=\"366.269886\" xlink:href=\"#mc1e45faf41\" y=\"224.64\"/>\r\n      </g>\r\n     </g>\r\n     <g id=\"text_7\">\r\n      <!-- 30 -->\r\n      <g transform=\"translate(359.907386 239.238437)scale(0.1 -0.1)\">\r\n       <defs>\r\n        <path d=\"M 2597 2516 \r\nQ 3050 2419 3304 2112 \r\nQ 3559 1806 3559 1356 \r\nQ 3559 666 3084 287 \r\nQ 2609 -91 1734 -91 \r\nQ 1441 -91 1130 -33 \r\nQ 819 25 488 141 \r\nL 488 750 \r\nQ 750 597 1062 519 \r\nQ 1375 441 1716 441 \r\nQ 2309 441 2620 675 \r\nQ 2931 909 2931 1356 \r\nQ 2931 1769 2642 2001 \r\nQ 2353 2234 1838 2234 \r\nL 1294 2234 \r\nL 1294 2753 \r\nL 1863 2753 \r\nQ 2328 2753 2575 2939 \r\nQ 2822 3125 2822 3475 \r\nQ 2822 3834 2567 4026 \r\nQ 2313 4219 1838 4219 \r\nQ 1578 4219 1281 4162 \r\nQ 984 4106 628 3988 \r\nL 628 4550 \r\nQ 988 4650 1302 4700 \r\nQ 1616 4750 1894 4750 \r\nQ 2613 4750 3031 4423 \r\nQ 3450 4097 3450 3541 \r\nQ 3450 3153 3228 2886 \r\nQ 3006 2619 2597 2516 \r\nz\r\n\" id=\"DejaVuSans-33\" transform=\"scale(0.015625)\"/>\r\n       </defs>\r\n       <use xlink:href=\"#DejaVuSans-33\"/>\r\n       <use x=\"63.623047\" xlink:href=\"#DejaVuSans-30\"/>\r\n      </g>\r\n     </g>\r\n    </g>\r\n    <g id=\"text_8\">\r\n     <!-- epoch -->\r\n     <g transform=\"translate(208.678125 252.916562)scale(0.1 -0.1)\">\r\n      <defs>\r\n       <path d=\"M 3597 1894 \r\nL 3597 1613 \r\nL 953 1613 \r\nQ 991 1019 1311 708 \r\nQ 1631 397 2203 397 \r\nQ 2534 397 2845 478 \r\nQ 3156 559 3463 722 \r\nL 3463 178 \r\nQ 3153 47 2828 -22 \r\nQ 2503 -91 2169 -91 \r\nQ 1331 -91 842 396 \r\nQ 353 884 353 1716 \r\nQ 353 2575 817 3079 \r\nQ 1281 3584 2069 3584 \r\nQ 2775 3584 3186 3129 \r\nQ 3597 2675 3597 1894 \r\nz\r\nM 3022 2063 \r\nQ 3016 2534 2758 2815 \r\nQ 2500 3097 2075 3097 \r\nQ 1594 3097 1305 2825 \r\nQ 1016 2553 972 2059 \r\nL 3022 2063 \r\nz\r\n\" id=\"DejaVuSans-65\" transform=\"scale(0.015625)\"/>\r\n       <path d=\"M 1159 525 \r\nL 1159 -1331 \r\nL 581 -1331 \r\nL 581 3500 \r\nL 1159 3500 \r\nL 1159 2969 \r\nQ 1341 3281 1617 3432 \r\nQ 1894 3584 2278 3584 \r\nQ 2916 3584 3314 3078 \r\nQ 3713 2572 3713 1747 \r\nQ 3713 922 3314 415 \r\nQ 2916 -91 2278 -91 \r\nQ 1894 -91 1617 61 \r\nQ 1341 213 1159 525 \r\nz\r\nM 3116 1747 \r\nQ 3116 2381 2855 2742 \r\nQ 2594 3103 2138 3103 \r\nQ 1681 3103 1420 2742 \r\nQ 1159 2381 1159 1747 \r\nQ 1159 1113 1420 752 \r\nQ 1681 391 2138 391 \r\nQ 2594 391 2855 752 \r\nQ 3116 1113 3116 1747 \r\nz\r\n\" id=\"DejaVuSans-70\" transform=\"scale(0.015625)\"/>\r\n       <path d=\"M 1959 3097 \r\nQ 1497 3097 1228 2736 \r\nQ 959 2375 959 1747 \r\nQ 959 1119 1226 758 \r\nQ 1494 397 1959 397 \r\nQ 2419 397 2687 759 \r\nQ 2956 1122 2956 1747 \r\nQ 2956 2369 2687 2733 \r\nQ 2419 3097 1959 3097 \r\nz\r\nM 1959 3584 \r\nQ 2709 3584 3137 3096 \r\nQ 3566 2609 3566 1747 \r\nQ 3566 888 3137 398 \r\nQ 2709 -91 1959 -91 \r\nQ 1206 -91 779 398 \r\nQ 353 888 353 1747 \r\nQ 353 2609 779 3096 \r\nQ 1206 3584 1959 3584 \r\nz\r\n\" id=\"DejaVuSans-6f\" transform=\"scale(0.015625)\"/>\r\n       <path d=\"M 3122 3366 \r\nL 3122 2828 \r\nQ 2878 2963 2633 3030 \r\nQ 2388 3097 2138 3097 \r\nQ 1578 3097 1268 2742 \r\nQ 959 2388 959 1747 \r\nQ 959 1106 1268 751 \r\nQ 1578 397 2138 397 \r\nQ 2388 397 2633 464 \r\nQ 2878 531 3122 666 \r\nL 3122 134 \r\nQ 2881 22 2623 -34 \r\nQ 2366 -91 2075 -91 \r\nQ 1284 -91 818 406 \r\nQ 353 903 353 1747 \r\nQ 353 2603 823 3093 \r\nQ 1294 3584 2113 3584 \r\nQ 2378 3584 2631 3529 \r\nQ 2884 3475 3122 3366 \r\nz\r\n\" id=\"DejaVuSans-63\" transform=\"scale(0.015625)\"/>\r\n       <path d=\"M 3513 2113 \r\nL 3513 0 \r\nL 2938 0 \r\nL 2938 2094 \r\nQ 2938 2591 2744 2837 \r\nQ 2550 3084 2163 3084 \r\nQ 1697 3084 1428 2787 \r\nQ 1159 2491 1159 1978 \r\nL 1159 0 \r\nL 581 0 \r\nL 581 4863 \r\nL 1159 4863 \r\nL 1159 2956 \r\nQ 1366 3272 1645 3428 \r\nQ 1925 3584 2291 3584 \r\nQ 2894 3584 3203 3211 \r\nQ 3513 2838 3513 2113 \r\nz\r\n\" id=\"DejaVuSans-68\" transform=\"scale(0.015625)\"/>\r\n      </defs>\r\n      <use xlink:href=\"#DejaVuSans-65\"/>\r\n      <use x=\"61.523438\" xlink:href=\"#DejaVuSans-70\"/>\r\n      <use x=\"125\" xlink:href=\"#DejaVuSans-6f\"/>\r\n      <use x=\"186.181641\" xlink:href=\"#DejaVuSans-63\"/>\r\n      <use x=\"241.162109\" xlink:href=\"#DejaVuSans-68\"/>\r\n     </g>\r\n    </g>\r\n   </g>\r\n   <g id=\"matplotlib.axis_2\">\r\n    <g id=\"ytick_1\">\r\n     <g id=\"line2d_8\">\r\n      <defs>\r\n       <path d=\"M 0 0 \r\nL -3.5 0 \r\n\" id=\"m59cf655e45\" style=\"stroke:#000000;stroke-width:0.8;\"/>\r\n      </defs>\r\n      <g>\r\n       <use style=\"stroke:#000000;stroke-width:0.8;\" x=\"56.50625\" xlink:href=\"#m59cf655e45\" y=\"215.919146\"/>\r\n      </g>\r\n     </g>\r\n     <g id=\"text_9\">\r\n      <!-- 0.475 -->\r\n      <g transform=\"translate(20.878125 219.718365)scale(0.1 -0.1)\">\r\n       <defs>\r\n        <path d=\"M 684 794 \r\nL 1344 794 \r\nL 1344 0 \r\nL 684 0 \r\nL 684 794 \r\nz\r\n\" id=\"DejaVuSans-2e\" transform=\"scale(0.015625)\"/>\r\n        <path d=\"M 2419 4116 \r\nL 825 1625 \r\nL 2419 1625 \r\nL 2419 4116 \r\nz\r\nM 2253 4666 \r\nL 3047 4666 \r\nL 3047 1625 \r\nL 3713 1625 \r\nL 3713 1100 \r\nL 3047 1100 \r\nL 3047 0 \r\nL 2419 0 \r\nL 2419 1100 \r\nL 313 1100 \r\nL 313 1709 \r\nL 2253 4666 \r\nz\r\n\" id=\"DejaVuSans-34\" transform=\"scale(0.015625)\"/>\r\n        <path d=\"M 525 4666 \r\nL 3525 4666 \r\nL 3525 4397 \r\nL 1831 0 \r\nL 1172 0 \r\nL 2766 4134 \r\nL 525 4134 \r\nL 525 4666 \r\nz\r\n\" id=\"DejaVuSans-37\" transform=\"scale(0.015625)\"/>\r\n       </defs>\r\n       <use xlink:href=\"#DejaVuSans-30\"/>\r\n       <use x=\"63.623047\" xlink:href=\"#DejaVuSans-2e\"/>\r\n       <use x=\"95.410156\" xlink:href=\"#DejaVuSans-34\"/>\r\n       <use x=\"159.033203\" xlink:href=\"#DejaVuSans-37\"/>\r\n       <use x=\"222.65625\" xlink:href=\"#DejaVuSans-35\"/>\r\n      </g>\r\n     </g>\r\n    </g>\r\n    <g id=\"ytick_2\">\r\n     <g id=\"line2d_9\">\r\n      <g>\r\n       <use style=\"stroke:#000000;stroke-width:0.8;\" x=\"56.50625\" xlink:href=\"#m59cf655e45\" y=\"191.500747\"/>\r\n      </g>\r\n     </g>\r\n     <g id=\"text_10\">\r\n      <!-- 0.500 -->\r\n      <g transform=\"translate(20.878125 195.299966)scale(0.1 -0.1)\">\r\n       <use xlink:href=\"#DejaVuSans-30\"/>\r\n       <use x=\"63.623047\" xlink:href=\"#DejaVuSans-2e\"/>\r\n       <use x=\"95.410156\" xlink:href=\"#DejaVuSans-35\"/>\r\n       <use x=\"159.033203\" xlink:href=\"#DejaVuSans-30\"/>\r\n       <use x=\"222.65625\" xlink:href=\"#DejaVuSans-30\"/>\r\n      </g>\r\n     </g>\r\n    </g>\r\n    <g id=\"ytick_3\">\r\n     <g id=\"line2d_10\">\r\n      <g>\r\n       <use style=\"stroke:#000000;stroke-width:0.8;\" x=\"56.50625\" xlink:href=\"#m59cf655e45\" y=\"167.082348\"/>\r\n      </g>\r\n     </g>\r\n     <g id=\"text_11\">\r\n      <!-- 0.525 -->\r\n      <g transform=\"translate(20.878125 170.881567)scale(0.1 -0.1)\">\r\n       <use xlink:href=\"#DejaVuSans-30\"/>\r\n       <use x=\"63.623047\" xlink:href=\"#DejaVuSans-2e\"/>\r\n       <use x=\"95.410156\" xlink:href=\"#DejaVuSans-35\"/>\r\n       <use x=\"159.033203\" xlink:href=\"#DejaVuSans-32\"/>\r\n       <use x=\"222.65625\" xlink:href=\"#DejaVuSans-35\"/>\r\n      </g>\r\n     </g>\r\n    </g>\r\n    <g id=\"ytick_4\">\r\n     <g id=\"line2d_11\">\r\n      <g>\r\n       <use style=\"stroke:#000000;stroke-width:0.8;\" x=\"56.50625\" xlink:href=\"#m59cf655e45\" y=\"142.663949\"/>\r\n      </g>\r\n     </g>\r\n     <g id=\"text_12\">\r\n      <!-- 0.550 -->\r\n      <g transform=\"translate(20.878125 146.463168)scale(0.1 -0.1)\">\r\n       <use xlink:href=\"#DejaVuSans-30\"/>\r\n       <use x=\"63.623047\" xlink:href=\"#DejaVuSans-2e\"/>\r\n       <use x=\"95.410156\" xlink:href=\"#DejaVuSans-35\"/>\r\n       <use x=\"159.033203\" xlink:href=\"#DejaVuSans-35\"/>\r\n       <use x=\"222.65625\" xlink:href=\"#DejaVuSans-30\"/>\r\n      </g>\r\n     </g>\r\n    </g>\r\n    <g id=\"ytick_5\">\r\n     <g id=\"line2d_12\">\r\n      <g>\r\n       <use style=\"stroke:#000000;stroke-width:0.8;\" x=\"56.50625\" xlink:href=\"#m59cf655e45\" y=\"118.24555\"/>\r\n      </g>\r\n     </g>\r\n     <g id=\"text_13\">\r\n      <!-- 0.575 -->\r\n      <g transform=\"translate(20.878125 122.044769)scale(0.1 -0.1)\">\r\n       <use xlink:href=\"#DejaVuSans-30\"/>\r\n       <use x=\"63.623047\" xlink:href=\"#DejaVuSans-2e\"/>\r\n       <use x=\"95.410156\" xlink:href=\"#DejaVuSans-35\"/>\r\n       <use x=\"159.033203\" xlink:href=\"#DejaVuSans-37\"/>\r\n       <use x=\"222.65625\" xlink:href=\"#DejaVuSans-35\"/>\r\n      </g>\r\n     </g>\r\n    </g>\r\n    <g id=\"ytick_6\">\r\n     <g id=\"line2d_13\">\r\n      <g>\r\n       <use style=\"stroke:#000000;stroke-width:0.8;\" x=\"56.50625\" xlink:href=\"#m59cf655e45\" y=\"93.827151\"/>\r\n      </g>\r\n     </g>\r\n     <g id=\"text_14\">\r\n      <!-- 0.600 -->\r\n      <g transform=\"translate(20.878125 97.62637)scale(0.1 -0.1)\">\r\n       <defs>\r\n        <path d=\"M 2113 2584 \r\nQ 1688 2584 1439 2293 \r\nQ 1191 2003 1191 1497 \r\nQ 1191 994 1439 701 \r\nQ 1688 409 2113 409 \r\nQ 2538 409 2786 701 \r\nQ 3034 994 3034 1497 \r\nQ 3034 2003 2786 2293 \r\nQ 2538 2584 2113 2584 \r\nz\r\nM 3366 4563 \r\nL 3366 3988 \r\nQ 3128 4100 2886 4159 \r\nQ 2644 4219 2406 4219 \r\nQ 1781 4219 1451 3797 \r\nQ 1122 3375 1075 2522 \r\nQ 1259 2794 1537 2939 \r\nQ 1816 3084 2150 3084 \r\nQ 2853 3084 3261 2657 \r\nQ 3669 2231 3669 1497 \r\nQ 3669 778 3244 343 \r\nQ 2819 -91 2113 -91 \r\nQ 1303 -91 875 529 \r\nQ 447 1150 447 2328 \r\nQ 447 3434 972 4092 \r\nQ 1497 4750 2381 4750 \r\nQ 2619 4750 2861 4703 \r\nQ 3103 4656 3366 4563 \r\nz\r\n\" id=\"DejaVuSans-36\" transform=\"scale(0.015625)\"/>\r\n       </defs>\r\n       <use xlink:href=\"#DejaVuSans-30\"/>\r\n       <use x=\"63.623047\" xlink:href=\"#DejaVuSans-2e\"/>\r\n       <use x=\"95.410156\" xlink:href=\"#DejaVuSans-36\"/>\r\n       <use x=\"159.033203\" xlink:href=\"#DejaVuSans-30\"/>\r\n       <use x=\"222.65625\" xlink:href=\"#DejaVuSans-30\"/>\r\n      </g>\r\n     </g>\r\n    </g>\r\n    <g id=\"ytick_7\">\r\n     <g id=\"line2d_14\">\r\n      <g>\r\n       <use style=\"stroke:#000000;stroke-width:0.8;\" x=\"56.50625\" xlink:href=\"#m59cf655e45\" y=\"69.408752\"/>\r\n      </g>\r\n     </g>\r\n     <g id=\"text_15\">\r\n      <!-- 0.625 -->\r\n      <g transform=\"translate(20.878125 73.207971)scale(0.1 -0.1)\">\r\n       <use xlink:href=\"#DejaVuSans-30\"/>\r\n       <use x=\"63.623047\" xlink:href=\"#DejaVuSans-2e\"/>\r\n       <use x=\"95.410156\" xlink:href=\"#DejaVuSans-36\"/>\r\n       <use x=\"159.033203\" xlink:href=\"#DejaVuSans-32\"/>\r\n       <use x=\"222.65625\" xlink:href=\"#DejaVuSans-35\"/>\r\n      </g>\r\n     </g>\r\n    </g>\r\n    <g id=\"ytick_8\">\r\n     <g id=\"line2d_15\">\r\n      <g>\r\n       <use style=\"stroke:#000000;stroke-width:0.8;\" x=\"56.50625\" xlink:href=\"#m59cf655e45\" y=\"44.990353\"/>\r\n      </g>\r\n     </g>\r\n     <g id=\"text_16\">\r\n      <!-- 0.650 -->\r\n      <g transform=\"translate(20.878125 48.789572)scale(0.1 -0.1)\">\r\n       <use xlink:href=\"#DejaVuSans-30\"/>\r\n       <use x=\"63.623047\" xlink:href=\"#DejaVuSans-2e\"/>\r\n       <use x=\"95.410156\" xlink:href=\"#DejaVuSans-36\"/>\r\n       <use x=\"159.033203\" xlink:href=\"#DejaVuSans-35\"/>\r\n       <use x=\"222.65625\" xlink:href=\"#DejaVuSans-30\"/>\r\n      </g>\r\n     </g>\r\n    </g>\r\n    <g id=\"ytick_9\">\r\n     <g id=\"line2d_16\">\r\n      <g>\r\n       <use style=\"stroke:#000000;stroke-width:0.8;\" x=\"56.50625\" xlink:href=\"#m59cf655e45\" y=\"20.571954\"/>\r\n      </g>\r\n     </g>\r\n     <g id=\"text_17\">\r\n      <!-- 0.675 -->\r\n      <g transform=\"translate(20.878125 24.371173)scale(0.1 -0.1)\">\r\n       <use xlink:href=\"#DejaVuSans-30\"/>\r\n       <use x=\"63.623047\" xlink:href=\"#DejaVuSans-2e\"/>\r\n       <use x=\"95.410156\" xlink:href=\"#DejaVuSans-36\"/>\r\n       <use x=\"159.033203\" xlink:href=\"#DejaVuSans-37\"/>\r\n       <use x=\"222.65625\" xlink:href=\"#DejaVuSans-35\"/>\r\n      </g>\r\n     </g>\r\n    </g>\r\n    <g id=\"text_18\">\r\n     <!-- Accuracy -->\r\n     <g transform=\"translate(14.798437 138.748125)rotate(-90)scale(0.1 -0.1)\">\r\n      <defs>\r\n       <path d=\"M 2188 4044 \r\nL 1331 1722 \r\nL 3047 1722 \r\nL 2188 4044 \r\nz\r\nM 1831 4666 \r\nL 2547 4666 \r\nL 4325 0 \r\nL 3669 0 \r\nL 3244 1197 \r\nL 1141 1197 \r\nL 716 0 \r\nL 50 0 \r\nL 1831 4666 \r\nz\r\n\" id=\"DejaVuSans-41\" transform=\"scale(0.015625)\"/>\r\n       <path d=\"M 544 1381 \r\nL 544 3500 \r\nL 1119 3500 \r\nL 1119 1403 \r\nQ 1119 906 1312 657 \r\nQ 1506 409 1894 409 \r\nQ 2359 409 2629 706 \r\nQ 2900 1003 2900 1516 \r\nL 2900 3500 \r\nL 3475 3500 \r\nL 3475 0 \r\nL 2900 0 \r\nL 2900 538 \r\nQ 2691 219 2414 64 \r\nQ 2138 -91 1772 -91 \r\nQ 1169 -91 856 284 \r\nQ 544 659 544 1381 \r\nz\r\nM 1991 3584 \r\nL 1991 3584 \r\nz\r\n\" id=\"DejaVuSans-75\" transform=\"scale(0.015625)\"/>\r\n       <path d=\"M 2631 2963 \r\nQ 2534 3019 2420 3045 \r\nQ 2306 3072 2169 3072 \r\nQ 1681 3072 1420 2755 \r\nQ 1159 2438 1159 1844 \r\nL 1159 0 \r\nL 581 0 \r\nL 581 3500 \r\nL 1159 3500 \r\nL 1159 2956 \r\nQ 1341 3275 1631 3429 \r\nQ 1922 3584 2338 3584 \r\nQ 2397 3584 2469 3576 \r\nQ 2541 3569 2628 3553 \r\nL 2631 2963 \r\nz\r\n\" id=\"DejaVuSans-72\" transform=\"scale(0.015625)\"/>\r\n       <path d=\"M 2194 1759 \r\nQ 1497 1759 1228 1600 \r\nQ 959 1441 959 1056 \r\nQ 959 750 1161 570 \r\nQ 1363 391 1709 391 \r\nQ 2188 391 2477 730 \r\nQ 2766 1069 2766 1631 \r\nL 2766 1759 \r\nL 2194 1759 \r\nz\r\nM 3341 1997 \r\nL 3341 0 \r\nL 2766 0 \r\nL 2766 531 \r\nQ 2569 213 2275 61 \r\nQ 1981 -91 1556 -91 \r\nQ 1019 -91 701 211 \r\nQ 384 513 384 1019 \r\nQ 384 1609 779 1909 \r\nQ 1175 2209 1959 2209 \r\nL 2766 2209 \r\nL 2766 2266 \r\nQ 2766 2663 2505 2880 \r\nQ 2244 3097 1772 3097 \r\nQ 1472 3097 1187 3025 \r\nQ 903 2953 641 2809 \r\nL 641 3341 \r\nQ 956 3463 1253 3523 \r\nQ 1550 3584 1831 3584 \r\nQ 2591 3584 2966 3190 \r\nQ 3341 2797 3341 1997 \r\nz\r\n\" id=\"DejaVuSans-61\" transform=\"scale(0.015625)\"/>\r\n       <path d=\"M 2059 -325 \r\nQ 1816 -950 1584 -1140 \r\nQ 1353 -1331 966 -1331 \r\nL 506 -1331 \r\nL 506 -850 \r\nL 844 -850 \r\nQ 1081 -850 1212 -737 \r\nQ 1344 -625 1503 -206 \r\nL 1606 56 \r\nL 191 3500 \r\nL 800 3500 \r\nL 1894 763 \r\nL 2988 3500 \r\nL 3597 3500 \r\nL 2059 -325 \r\nz\r\n\" id=\"DejaVuSans-79\" transform=\"scale(0.015625)\"/>\r\n      </defs>\r\n      <use xlink:href=\"#DejaVuSans-41\"/>\r\n      <use x=\"66.658203\" xlink:href=\"#DejaVuSans-63\"/>\r\n      <use x=\"121.638672\" xlink:href=\"#DejaVuSans-63\"/>\r\n      <use x=\"176.619141\" xlink:href=\"#DejaVuSans-75\"/>\r\n      <use x=\"239.998047\" xlink:href=\"#DejaVuSans-72\"/>\r\n      <use x=\"281.111328\" xlink:href=\"#DejaVuSans-61\"/>\r\n      <use x=\"342.390625\" xlink:href=\"#DejaVuSans-63\"/>\r\n      <use x=\"397.371094\" xlink:href=\"#DejaVuSans-79\"/>\r\n     </g>\r\n    </g>\r\n   </g>\r\n   <g id=\"line2d_17\">\r\n    <path clip-path=\"url(#p90facf237a)\" d=\"M 71.724432 133.013547 \r\nL 81.542614 118.391747 \r\nL 91.360795 133.013547 \r\nL 101.178977 80.375102 \r\nL 110.997159 71.601999 \r\nL 120.815341 112.54305 \r\nL 130.633523 62.828954 \r\nL 140.451705 77.450754 \r\nL 150.269886 83.29945 \r\nL 160.088068 68.67765 \r\nL 169.90625 68.67765 \r\nL 179.724432 56.980199 \r\nL 189.542614 62.828954 \r\nL 199.360795 65.753302 \r\nL 209.178977 65.753302 \r\nL 218.997159 62.828954 \r\nL 228.815341 68.67765 \r\nL 238.633523 68.67765 \r\nL 248.451705 74.526405 \r\nL 258.269886 71.601999 \r\nL 268.088068 59.904605 \r\nL 277.90625 65.753302 \r\nL 287.724432 59.904605 \r\nL 297.542614 54.05585 \r\nL 307.360795 68.67765 \r\nL 317.178977 68.67765 \r\nL 326.997159 71.601999 \r\nL 336.815341 54.05585 \r\nL 346.633523 74.526405 \r\nL 356.451705 54.05585 \r\nL 366.269886 59.904605 \r\nL 376.088068 56.980199 \r\n\" style=\"fill:none;stroke:#1f77b4;stroke-linecap:square;stroke-width:1.5;\"/>\r\n   </g>\r\n   <g id=\"line2d_18\">\r\n    <path clip-path=\"url(#p90facf237a)\" d=\"M 71.724432 28.711401 \r\nL 81.542614 168.245101 \r\nL 91.360795 133.361691 \r\nL 101.178977 214.756364 \r\nL 110.997159 121.733868 \r\nL 120.815341 17.083636 \r\nL 130.633523 63.59487 \r\nL 140.451705 168.245101 \r\nL 150.269886 17.083636 \r\nL 160.088068 17.083636 \r\nL 169.90625 17.083636 \r\nL 179.724432 28.711401 \r\nL 189.542614 17.083636 \r\nL 199.360795 40.339224 \r\nL 209.178977 51.967047 \r\nL 218.997159 17.083636 \r\nL 228.815341 17.083636 \r\nL 238.633523 51.967047 \r\nL 248.451705 17.083636 \r\nL 258.269886 17.083636 \r\nL 268.088068 156.617336 \r\nL 277.90625 63.59487 \r\nL 287.724432 17.083636 \r\nL 297.542614 17.083636 \r\nL 307.360795 17.083636 \r\nL 317.178977 63.59487 \r\nL 326.997159 40.339224 \r\nL 336.815341 144.989514 \r\nL 346.633523 17.083636 \r\nL 356.451705 28.711401 \r\nL 366.269886 63.59487 \r\nL 376.088068 121.733868 \r\n\" style=\"fill:none;stroke:#ff7f0e;stroke-linecap:square;stroke-width:1.5;\"/>\r\n   </g>\r\n   <g id=\"patch_3\">\r\n    <path d=\"M 56.50625 224.64 \r\nL 56.50625 7.2 \r\n\" style=\"fill:none;stroke:#000000;stroke-linecap:square;stroke-linejoin:miter;stroke-width:0.8;\"/>\r\n   </g>\r\n   <g id=\"patch_4\">\r\n    <path d=\"M 391.30625 224.64 \r\nL 391.30625 7.2 \r\n\" style=\"fill:none;stroke:#000000;stroke-linecap:square;stroke-linejoin:miter;stroke-width:0.8;\"/>\r\n   </g>\r\n   <g id=\"patch_5\">\r\n    <path d=\"M 56.50625 224.64 \r\nL 391.30625 224.64 \r\n\" style=\"fill:none;stroke:#000000;stroke-linecap:square;stroke-linejoin:miter;stroke-width:0.8;\"/>\r\n   </g>\r\n   <g id=\"patch_6\">\r\n    <path d=\"M 56.50625 7.2 \r\nL 391.30625 7.2 \r\n\" style=\"fill:none;stroke:#000000;stroke-linecap:square;stroke-linejoin:miter;stroke-width:0.8;\"/>\r\n   </g>\r\n   <g id=\"legend_1\">\r\n    <g id=\"patch_7\">\r\n     <path d=\"M 277.36875 219.64 \r\nL 384.30625 219.64 \r\nQ 386.30625 219.64 386.30625 217.64 \r\nL 386.30625 189.28375 \r\nQ 386.30625 187.28375 384.30625 187.28375 \r\nL 277.36875 187.28375 \r\nQ 275.36875 187.28375 275.36875 189.28375 \r\nL 275.36875 217.64 \r\nQ 275.36875 219.64 277.36875 219.64 \r\nz\r\n\" style=\"fill:#ffffff;opacity:0.8;stroke:#cccccc;stroke-linejoin:miter;\"/>\r\n    </g>\r\n    <g id=\"line2d_19\">\r\n     <path d=\"M 279.36875 195.382187 \r\nL 299.36875 195.382187 \r\n\" style=\"fill:none;stroke:#1f77b4;stroke-linecap:square;stroke-width:1.5;\"/>\r\n    </g>\r\n    <g id=\"line2d_20\"/>\r\n    <g id=\"text_19\">\r\n     <!-- training data -->\r\n     <g transform=\"translate(307.36875 198.882187)scale(0.1 -0.1)\">\r\n      <defs>\r\n       <path d=\"M 1172 4494 \r\nL 1172 3500 \r\nL 2356 3500 \r\nL 2356 3053 \r\nL 1172 3053 \r\nL 1172 1153 \r\nQ 1172 725 1289 603 \r\nQ 1406 481 1766 481 \r\nL 2356 481 \r\nL 2356 0 \r\nL 1766 0 \r\nQ 1100 0 847 248 \r\nQ 594 497 594 1153 \r\nL 594 3053 \r\nL 172 3053 \r\nL 172 3500 \r\nL 594 3500 \r\nL 594 4494 \r\nL 1172 4494 \r\nz\r\n\" id=\"DejaVuSans-74\" transform=\"scale(0.015625)\"/>\r\n       <path d=\"M 603 3500 \r\nL 1178 3500 \r\nL 1178 0 \r\nL 603 0 \r\nL 603 3500 \r\nz\r\nM 603 4863 \r\nL 1178 4863 \r\nL 1178 4134 \r\nL 603 4134 \r\nL 603 4863 \r\nz\r\n\" id=\"DejaVuSans-69\" transform=\"scale(0.015625)\"/>\r\n       <path d=\"M 3513 2113 \r\nL 3513 0 \r\nL 2938 0 \r\nL 2938 2094 \r\nQ 2938 2591 2744 2837 \r\nQ 2550 3084 2163 3084 \r\nQ 1697 3084 1428 2787 \r\nQ 1159 2491 1159 1978 \r\nL 1159 0 \r\nL 581 0 \r\nL 581 3500 \r\nL 1159 3500 \r\nL 1159 2956 \r\nQ 1366 3272 1645 3428 \r\nQ 1925 3584 2291 3584 \r\nQ 2894 3584 3203 3211 \r\nQ 3513 2838 3513 2113 \r\nz\r\n\" id=\"DejaVuSans-6e\" transform=\"scale(0.015625)\"/>\r\n       <path d=\"M 2906 1791 \r\nQ 2906 2416 2648 2759 \r\nQ 2391 3103 1925 3103 \r\nQ 1463 3103 1205 2759 \r\nQ 947 2416 947 1791 \r\nQ 947 1169 1205 825 \r\nQ 1463 481 1925 481 \r\nQ 2391 481 2648 825 \r\nQ 2906 1169 2906 1791 \r\nz\r\nM 3481 434 \r\nQ 3481 -459 3084 -895 \r\nQ 2688 -1331 1869 -1331 \r\nQ 1566 -1331 1297 -1286 \r\nQ 1028 -1241 775 -1147 \r\nL 775 -588 \r\nQ 1028 -725 1275 -790 \r\nQ 1522 -856 1778 -856 \r\nQ 2344 -856 2625 -561 \r\nQ 2906 -266 2906 331 \r\nL 2906 616 \r\nQ 2728 306 2450 153 \r\nQ 2172 0 1784 0 \r\nQ 1141 0 747 490 \r\nQ 353 981 353 1791 \r\nQ 353 2603 747 3093 \r\nQ 1141 3584 1784 3584 \r\nQ 2172 3584 2450 3431 \r\nQ 2728 3278 2906 2969 \r\nL 2906 3500 \r\nL 3481 3500 \r\nL 3481 434 \r\nz\r\n\" id=\"DejaVuSans-67\" transform=\"scale(0.015625)\"/>\r\n       <path id=\"DejaVuSans-20\" transform=\"scale(0.015625)\"/>\r\n       <path d=\"M 2906 2969 \r\nL 2906 4863 \r\nL 3481 4863 \r\nL 3481 0 \r\nL 2906 0 \r\nL 2906 525 \r\nQ 2725 213 2448 61 \r\nQ 2172 -91 1784 -91 \r\nQ 1150 -91 751 415 \r\nQ 353 922 353 1747 \r\nQ 353 2572 751 3078 \r\nQ 1150 3584 1784 3584 \r\nQ 2172 3584 2448 3432 \r\nQ 2725 3281 2906 2969 \r\nz\r\nM 947 1747 \r\nQ 947 1113 1208 752 \r\nQ 1469 391 1925 391 \r\nQ 2381 391 2643 752 \r\nQ 2906 1113 2906 1747 \r\nQ 2906 2381 2643 2742 \r\nQ 2381 3103 1925 3103 \r\nQ 1469 3103 1208 2742 \r\nQ 947 2381 947 1747 \r\nz\r\n\" id=\"DejaVuSans-64\" transform=\"scale(0.015625)\"/>\r\n      </defs>\r\n      <use xlink:href=\"#DejaVuSans-74\"/>\r\n      <use x=\"39.208984\" xlink:href=\"#DejaVuSans-72\"/>\r\n      <use x=\"80.322266\" xlink:href=\"#DejaVuSans-61\"/>\r\n      <use x=\"141.601562\" xlink:href=\"#DejaVuSans-69\"/>\r\n      <use x=\"169.384766\" xlink:href=\"#DejaVuSans-6e\"/>\r\n      <use x=\"232.763672\" xlink:href=\"#DejaVuSans-69\"/>\r\n      <use x=\"260.546875\" xlink:href=\"#DejaVuSans-6e\"/>\r\n      <use x=\"323.925781\" xlink:href=\"#DejaVuSans-67\"/>\r\n      <use x=\"387.402344\" xlink:href=\"#DejaVuSans-20\"/>\r\n      <use x=\"419.189453\" xlink:href=\"#DejaVuSans-64\"/>\r\n      <use x=\"482.666016\" xlink:href=\"#DejaVuSans-61\"/>\r\n      <use x=\"543.945312\" xlink:href=\"#DejaVuSans-74\"/>\r\n      <use x=\"583.154297\" xlink:href=\"#DejaVuSans-61\"/>\r\n     </g>\r\n    </g>\r\n    <g id=\"line2d_21\">\r\n     <path d=\"M 279.36875 210.060312 \r\nL 299.36875 210.060312 \r\n\" style=\"fill:none;stroke:#ff7f0e;stroke-linecap:square;stroke-width:1.5;\"/>\r\n    </g>\r\n    <g id=\"line2d_22\"/>\r\n    <g id=\"text_20\">\r\n     <!-- validation data -->\r\n     <g transform=\"translate(307.36875 213.560312)scale(0.1 -0.1)\">\r\n      <defs>\r\n       <path d=\"M 191 3500 \r\nL 800 3500 \r\nL 1894 563 \r\nL 2988 3500 \r\nL 3597 3500 \r\nL 2284 0 \r\nL 1503 0 \r\nL 191 3500 \r\nz\r\n\" id=\"DejaVuSans-76\" transform=\"scale(0.015625)\"/>\r\n       <path d=\"M 603 4863 \r\nL 1178 4863 \r\nL 1178 0 \r\nL 603 0 \r\nL 603 4863 \r\nz\r\n\" id=\"DejaVuSans-6c\" transform=\"scale(0.015625)\"/>\r\n      </defs>\r\n      <use xlink:href=\"#DejaVuSans-76\"/>\r\n      <use x=\"59.179688\" xlink:href=\"#DejaVuSans-61\"/>\r\n      <use x=\"120.458984\" xlink:href=\"#DejaVuSans-6c\"/>\r\n      <use x=\"148.242188\" xlink:href=\"#DejaVuSans-69\"/>\r\n      <use x=\"176.025391\" xlink:href=\"#DejaVuSans-64\"/>\r\n      <use x=\"239.501953\" xlink:href=\"#DejaVuSans-61\"/>\r\n      <use x=\"300.78125\" xlink:href=\"#DejaVuSans-74\"/>\r\n      <use x=\"339.990234\" xlink:href=\"#DejaVuSans-69\"/>\r\n      <use x=\"367.773438\" xlink:href=\"#DejaVuSans-6f\"/>\r\n      <use x=\"428.955078\" xlink:href=\"#DejaVuSans-6e\"/>\r\n      <use x=\"492.333984\" xlink:href=\"#DejaVuSans-20\"/>\r\n      <use x=\"524.121094\" xlink:href=\"#DejaVuSans-64\"/>\r\n      <use x=\"587.597656\" xlink:href=\"#DejaVuSans-61\"/>\r\n      <use x=\"648.876953\" xlink:href=\"#DejaVuSans-74\"/>\r\n      <use x=\"688.085938\" xlink:href=\"#DejaVuSans-61\"/>\r\n     </g>\r\n    </g>\r\n   </g>\r\n  </g>\r\n </g>\r\n <defs>\r\n  <clipPath id=\"p90facf237a\">\r\n   <rect height=\"217.44\" width=\"334.8\" x=\"56.50625\" y=\"7.2\"/>\r\n  </clipPath>\r\n </defs>\r\n</svg>\r\n",
      "image/png": "[encoded data removed]"
     },
     "metadata": {
      "needs_background": "light"
     }
    }
   ],
   "source": [
    "# plot learning curve\n",
    "plt.plot(history.history['accuracy'])\n",
    "plt.plot(history.history['val_accuracy'])\n",
    "plt.ylabel('Accuracy')\n",
    "plt.xlabel('epoch')\n",
    "plt.legend(['training data', 'validation data'], loc='lower right')\n",
    "plt.show()"
   ]
  },
  {
   "cell_type": "code",
   "execution_count": 99,
   "metadata": {},
   "outputs": [
    {
     "output_type": "error",
     "ename": "NameError",
     "evalue": "name 'y_pred' is not defined",
     "traceback": [
      "\u001b[1;31m---------------------------------------------------------------------------\u001b[0m",
      "\u001b[1;31mNameError\u001b[0m                                 Traceback (most recent call last)",
      "\u001b[1;32m<ipython-input-99-afc88f4dc8a1>\u001b[0m in \u001b[0;36m<module>\u001b[1;34m\u001b[0m\n\u001b[1;32m----> 1\u001b[1;33m \u001b[0mplt\u001b[0m\u001b[1;33m.\u001b[0m\u001b[0mscatter\u001b[0m\u001b[1;33m(\u001b[0m\u001b[0my_pred\u001b[0m\u001b[1;33m,\u001b[0m \u001b[0mtest_labels\u001b[0m\u001b[1;33m)\u001b[0m\u001b[1;33m\u001b[0m\u001b[1;33m\u001b[0m\u001b[0m\n\u001b[0m",
      "\u001b[1;31mNameError\u001b[0m: name 'y_pred' is not defined"
     ]
    }
   ],
   "source": [
    "plt.scatter(y_pred, test_labels)"
   ]
  },
  {
   "source": [
    "# Step 4: Hyperparameter tuning"
   ],
   "cell_type": "markdown",
   "metadata": {}
  },
  {
   "cell_type": "code",
   "execution_count": 100,
   "metadata": {},
   "outputs": [],
   "source": [
    "import kerastuner as kt"
   ]
  },
  {
   "cell_type": "code",
   "execution_count": 101,
   "metadata": {},
   "outputs": [],
   "source": [
    "def model_builder(hp):\n",
    "    model = keras.Sequential()\n",
    "    #model.add(normalizer)\n",
    "    model.add(layers.Dense(8, activation='relu',  input_shape=(10, )))\n",
    "    \n",
    "    # Tune the number of units in the first Dense layer\n",
    "    # Choose an optimal value between 32-512\n",
    "    hp_units = hp.Int('units', min_value=2, max_value=10, step=1)\n",
    "    model.add(keras.layers.Dense(units=hp_units, activation='relu'))\n",
    "    model.add(layers.Dense(1, activation='sigmoid'))\n",
    "\n",
    "    # Tune the learning rate for the optimizer\n",
    "    # Choose an optimal value from 0.01, 0.001, or 0.0001\n",
    "    hp_learning_rate = hp.Choice('learning_rate', values=[1e-1, 1e-2, 1e-3, 1e-4])\n",
    "\n",
    "    model.compile(optimizer=keras.optimizers.RMSprop(learning_rate=hp_learning_rate),\n",
    "                    loss=keras.losses.BinaryCrossentropy(),\n",
    "                    metrics=['accuracy'])\n",
    "\n",
    "    return model"
   ]
  },
  {
   "cell_type": "code",
   "execution_count": 102,
   "metadata": {},
   "outputs": [
    {
     "output_type": "stream",
     "name": "stdout",
     "text": [
      "INFO:tensorflow:Reloading Oracle from existing project my_dir\\intro_to_kt\\oracle.json\n",
      "INFO:tensorflow:Reloading Tuner from my_dir\\intro_to_kt\\tuner0.json\n"
     ]
    }
   ],
   "source": [
    "tuner = kt.Hyperband(model_builder,\n",
    "                     objective='val_accuracy',\n",
    "                     max_epochs=50,\n",
    "                     factor=3,\n",
    "                     directory='my_dir',\n",
    "                     project_name='intro_to_kt')"
   ]
  },
  {
   "cell_type": "code",
   "execution_count": 103,
   "metadata": {},
   "outputs": [],
   "source": [
    "stop_early = tf.keras.callbacks.EarlyStopping(monitor='val_loss', patience=5)"
   ]
  },
  {
   "cell_type": "code",
   "execution_count": 104,
   "metadata": {},
   "outputs": [
    {
     "output_type": "stream",
     "name": "stdout",
     "text": [
      "INFO:tensorflow:Oracle triggered exit\n",
      "\n",
      "The hyperparameter search is complete. The optimal number of units in the first densely-connected\n",
      "layer is 9 and the optimal learning rate for the optimizer\n",
      "is 0.01.\n",
      "\n"
     ]
    }
   ],
   "source": [
    "tuner.search(train_features, train_labels, epochs=50, validation_split=0.2, callbacks=[stop_early])\n",
    "\n",
    "# Get the optimal hyperparameters\n",
    "best_hps=tuner.get_best_hyperparameters(num_trials=1)[0]\n",
    "\n",
    "print(f\"\"\"\n",
    "The hyperparameter search is complete. The optimal number of units in the first densely-connected\n",
    "layer is {best_hps.get('units')} and the optimal learning rate for the optimizer\n",
    "is {best_hps.get('learning_rate')}.\n",
    "\"\"\")"
   ]
  },
  {
   "cell_type": "code",
   "execution_count": 105,
   "metadata": {},
   "outputs": [
    {
     "output_type": "stream",
     "name": "stdout",
     "text": [
      "Epoch 1/50\n",
      "9/9 [==============================] - 1s 24ms/step - loss: 12.1209 - accuracy: 0.4827 - val_loss: 1.8364 - val_accuracy: 0.4776\n",
      "Epoch 2/50\n",
      "9/9 [==============================] - 0s 7ms/step - loss: 1.1366 - accuracy: 0.4746 - val_loss: 0.7448 - val_accuracy: 0.4328\n",
      "Epoch 3/50\n",
      "9/9 [==============================] - 0s 7ms/step - loss: 0.8202 - accuracy: 0.4551 - val_loss: 0.7954 - val_accuracy: 0.5373\n",
      "Epoch 4/50\n",
      "9/9 [==============================] - 0s 7ms/step - loss: 0.7238 - accuracy: 0.6205 - val_loss: 1.0073 - val_accuracy: 0.4925\n",
      "Epoch 5/50\n",
      "9/9 [==============================] - 0s 7ms/step - loss: 0.7723 - accuracy: 0.6119 - val_loss: 0.6498 - val_accuracy: 0.6119\n",
      "Epoch 6/50\n",
      "9/9 [==============================] - 0s 7ms/step - loss: 0.6227 - accuracy: 0.6640 - val_loss: 0.8009 - val_accuracy: 0.5373\n",
      "Epoch 7/50\n",
      "9/9 [==============================] - 0s 7ms/step - loss: 0.8083 - accuracy: 0.5095 - val_loss: 0.6543 - val_accuracy: 0.6716\n",
      "Epoch 8/50\n",
      "9/9 [==============================] - 0s 7ms/step - loss: 0.6967 - accuracy: 0.5863 - val_loss: 0.7610 - val_accuracy: 0.5373\n",
      "Epoch 9/50\n",
      "9/9 [==============================] - 0s 7ms/step - loss: 0.6677 - accuracy: 0.6791 - val_loss: 0.6096 - val_accuracy: 0.7015\n",
      "Epoch 10/50\n",
      "9/9 [==============================] - 0s 7ms/step - loss: 0.6024 - accuracy: 0.6963 - val_loss: 0.8751 - val_accuracy: 0.5373\n",
      "Epoch 11/50\n",
      "9/9 [==============================] - 0s 7ms/step - loss: 0.7084 - accuracy: 0.5346 - val_loss: 0.7085 - val_accuracy: 0.5821\n",
      "Epoch 12/50\n",
      "9/9 [==============================] - 0s 7ms/step - loss: 0.6432 - accuracy: 0.6524 - val_loss: 0.7140 - val_accuracy: 0.5970\n",
      "Epoch 13/50\n",
      "9/9 [==============================] - 0s 8ms/step - loss: 0.6693 - accuracy: 0.6123 - val_loss: 0.6192 - val_accuracy: 0.7164\n",
      "Epoch 14/50\n",
      "9/9 [==============================] - 0s 7ms/step - loss: 0.6091 - accuracy: 0.6429 - val_loss: 0.7002 - val_accuracy: 0.5821\n",
      "Epoch 15/50\n",
      "9/9 [==============================] - 0s 7ms/step - loss: 0.7118 - accuracy: 0.5861 - val_loss: 0.7719 - val_accuracy: 0.4776\n",
      "Epoch 16/50\n",
      "9/9 [==============================] - 0s 7ms/step - loss: 0.6468 - accuracy: 0.6357 - val_loss: 0.6398 - val_accuracy: 0.6866\n",
      "Epoch 17/50\n",
      "9/9 [==============================] - 0s 7ms/step - loss: 0.6463 - accuracy: 0.6576 - val_loss: 0.6503 - val_accuracy: 0.6866\n",
      "Epoch 18/50\n",
      "9/9 [==============================] - 0s 7ms/step - loss: 0.6085 - accuracy: 0.7214 - val_loss: 0.7190 - val_accuracy: 0.5075\n",
      "Epoch 19/50\n",
      "9/9 [==============================] - 0s 7ms/step - loss: 0.6402 - accuracy: 0.6589 - val_loss: 0.6556 - val_accuracy: 0.6418\n",
      "Epoch 20/50\n",
      "9/9 [==============================] - 0s 7ms/step - loss: 0.6515 - accuracy: 0.6349 - val_loss: 0.6885 - val_accuracy: 0.6866\n",
      "Epoch 21/50\n",
      "9/9 [==============================] - 0s 7ms/step - loss: 0.6268 - accuracy: 0.6596 - val_loss: 0.6223 - val_accuracy: 0.6418\n",
      "Epoch 22/50\n",
      "9/9 [==============================] - 0s 7ms/step - loss: 0.6658 - accuracy: 0.6526 - val_loss: 0.6935 - val_accuracy: 0.5821\n",
      "Epoch 23/50\n",
      "9/9 [==============================] - 0s 7ms/step - loss: 0.6425 - accuracy: 0.6444 - val_loss: 0.5994 - val_accuracy: 0.7015\n",
      "Epoch 24/50\n",
      "9/9 [==============================] - 0s 7ms/step - loss: 0.5905 - accuracy: 0.7219 - val_loss: 0.6872 - val_accuracy: 0.5672\n",
      "Epoch 25/50\n",
      "9/9 [==============================] - 0s 7ms/step - loss: 0.5867 - accuracy: 0.6948 - val_loss: 0.6167 - val_accuracy: 0.6119\n",
      "Epoch 26/50\n",
      "9/9 [==============================] - 0s 7ms/step - loss: 0.5407 - accuracy: 0.7451 - val_loss: 0.6568 - val_accuracy: 0.6418\n",
      "Epoch 27/50\n",
      "9/9 [==============================] - 0s 7ms/step - loss: 0.6155 - accuracy: 0.6894 - val_loss: 0.6596 - val_accuracy: 0.6119\n",
      "Epoch 28/50\n",
      "9/9 [==============================] - 0s 7ms/step - loss: 0.5953 - accuracy: 0.6802 - val_loss: 0.6270 - val_accuracy: 0.6567\n",
      "Epoch 29/50\n",
      "9/9 [==============================] - 0s 7ms/step - loss: 0.5593 - accuracy: 0.7163 - val_loss: 0.6232 - val_accuracy: 0.6716\n",
      "Epoch 30/50\n",
      "9/9 [==============================] - 0s 7ms/step - loss: 0.5654 - accuracy: 0.7111 - val_loss: 0.8601 - val_accuracy: 0.5373\n",
      "Epoch 31/50\n",
      "9/9 [==============================] - 0s 7ms/step - loss: 0.7151 - accuracy: 0.6542 - val_loss: 0.6511 - val_accuracy: 0.6119\n",
      "Epoch 32/50\n",
      "9/9 [==============================] - 0s 7ms/step - loss: 0.6246 - accuracy: 0.7031 - val_loss: 0.6681 - val_accuracy: 0.6269\n",
      "Epoch 33/50\n",
      "9/9 [==============================] - 0s 7ms/step - loss: 0.6077 - accuracy: 0.7013 - val_loss: 0.6387 - val_accuracy: 0.5970\n",
      "Epoch 34/50\n",
      "9/9 [==============================] - 0s 7ms/step - loss: 0.5874 - accuracy: 0.7083 - val_loss: 0.6501 - val_accuracy: 0.6866\n",
      "Epoch 35/50\n",
      "9/9 [==============================] - 0s 7ms/step - loss: 0.6187 - accuracy: 0.6908 - val_loss: 0.6716 - val_accuracy: 0.6418\n",
      "Epoch 36/50\n",
      "9/9 [==============================] - 0s 7ms/step - loss: 0.6290 - accuracy: 0.6745 - val_loss: 0.6180 - val_accuracy: 0.7015\n",
      "Epoch 37/50\n",
      "9/9 [==============================] - 0s 7ms/step - loss: 0.5911 - accuracy: 0.7168 - val_loss: 0.6151 - val_accuracy: 0.5970\n",
      "Epoch 38/50\n",
      "9/9 [==============================] - 0s 9ms/step - loss: 0.6214 - accuracy: 0.6761 - val_loss: 0.6581 - val_accuracy: 0.7015\n",
      "Epoch 39/50\n",
      "9/9 [==============================] - 0s 7ms/step - loss: 0.6108 - accuracy: 0.6863 - val_loss: 0.6677 - val_accuracy: 0.5821\n",
      "Epoch 40/50\n",
      "9/9 [==============================] - 0s 7ms/step - loss: 0.5858 - accuracy: 0.7237 - val_loss: 0.6422 - val_accuracy: 0.6716\n",
      "Epoch 41/50\n",
      "9/9 [==============================] - 0s 7ms/step - loss: 0.5642 - accuracy: 0.7339 - val_loss: 0.6490 - val_accuracy: 0.6119\n",
      "Epoch 42/50\n",
      "9/9 [==============================] - 0s 7ms/step - loss: 0.5636 - accuracy: 0.7497 - val_loss: 0.9312 - val_accuracy: 0.5224\n",
      "Epoch 43/50\n",
      "9/9 [==============================] - 0s 7ms/step - loss: 0.6687 - accuracy: 0.6743 - val_loss: 0.6234 - val_accuracy: 0.5970\n",
      "Epoch 44/50\n",
      "9/9 [==============================] - 0s 7ms/step - loss: 0.5990 - accuracy: 0.6833 - val_loss: 0.6522 - val_accuracy: 0.6716\n",
      "Epoch 45/50\n",
      "9/9 [==============================] - 0s 7ms/step - loss: 0.5980 - accuracy: 0.7202 - val_loss: 0.6244 - val_accuracy: 0.6418\n",
      "Epoch 46/50\n",
      "9/9 [==============================] - 0s 7ms/step - loss: 0.5845 - accuracy: 0.7123 - val_loss: 0.6317 - val_accuracy: 0.6269\n",
      "Epoch 47/50\n",
      "9/9 [==============================] - 0s 7ms/step - loss: 0.5481 - accuracy: 0.7774 - val_loss: 0.6706 - val_accuracy: 0.6269\n",
      "Epoch 48/50\n",
      "9/9 [==============================] - 0s 7ms/step - loss: 0.5985 - accuracy: 0.7350 - val_loss: 0.6150 - val_accuracy: 0.6119\n",
      "Epoch 49/50\n",
      "9/9 [==============================] - 0s 7ms/step - loss: 0.5889 - accuracy: 0.6774 - val_loss: 0.6227 - val_accuracy: 0.6716\n",
      "Epoch 50/50\n",
      "9/9 [==============================] - 0s 7ms/step - loss: 0.6113 - accuracy: 0.6896 - val_loss: 0.6323 - val_accuracy: 0.6418\n",
      "Best epoch: 13\n"
     ]
    }
   ],
   "source": [
    "# Build the model with the optimal hyperparameters and train it on the data for 50 epochs\n",
    "model = tuner.hypermodel.build(best_hps)\n",
    "history = model.fit(train_features, train_labels, epochs=50, validation_split=0.2)\n",
    "\n",
    "val_acc_per_epoch = history.history['val_accuracy']\n",
    "best_epoch = val_acc_per_epoch.index(max(val_acc_per_epoch)) + 1\n",
    "print('Best epoch: %d' % (best_epoch,))"
   ]
  },
  {
   "cell_type": "code",
   "execution_count": 106,
   "metadata": {},
   "outputs": [
    {
     "output_type": "stream",
     "name": "stdout",
     "text": [
      "Epoch 1/13\n",
      "9/9 [==============================] - 1s 24ms/step - loss: 6.4675 - accuracy: 0.4614 - val_loss: 3.5864 - val_accuracy: 0.5373\n",
      "Epoch 2/13\n",
      "9/9 [==============================] - 0s 7ms/step - loss: 3.0020 - accuracy: 0.4981 - val_loss: 4.4980 - val_accuracy: 0.5373\n",
      "Epoch 3/13\n",
      "9/9 [==============================] - 0s 7ms/step - loss: 2.2740 - accuracy: 0.6029 - val_loss: 2.1952 - val_accuracy: 0.5522\n",
      "Epoch 4/13\n",
      "9/9 [==============================] - 0s 8ms/step - loss: 2.7063 - accuracy: 0.5215 - val_loss: 6.3735 - val_accuracy: 0.4627\n",
      "Epoch 5/13\n",
      "9/9 [==============================] - 0s 7ms/step - loss: 2.8240 - accuracy: 0.5213 - val_loss: 1.0545 - val_accuracy: 0.5373\n",
      "Epoch 6/13\n",
      "9/9 [==============================] - 0s 7ms/step - loss: 1.2711 - accuracy: 0.5650 - val_loss: 2.9722 - val_accuracy: 0.5373\n",
      "Epoch 7/13\n",
      "9/9 [==============================] - 0s 8ms/step - loss: 2.2869 - accuracy: 0.5109 - val_loss: 0.9225 - val_accuracy: 0.6119\n",
      "Epoch 8/13\n",
      "9/9 [==============================] - 0s 7ms/step - loss: 1.3517 - accuracy: 0.5367 - val_loss: 1.8687 - val_accuracy: 0.4776\n",
      "Epoch 9/13\n",
      "9/9 [==============================] - 0s 7ms/step - loss: 1.5807 - accuracy: 0.4665 - val_loss: 1.7569 - val_accuracy: 0.5373\n",
      "Epoch 10/13\n",
      "9/9 [==============================] - 0s 7ms/step - loss: 1.1734 - accuracy: 0.6324 - val_loss: 0.7679 - val_accuracy: 0.5970\n",
      "Epoch 11/13\n",
      "9/9 [==============================] - 0s 7ms/step - loss: 1.0177 - accuracy: 0.5989 - val_loss: 0.9584 - val_accuracy: 0.6119\n",
      "Epoch 12/13\n",
      "9/9 [==============================] - 0s 7ms/step - loss: 0.8224 - accuracy: 0.5710 - val_loss: 1.3175 - val_accuracy: 0.5075\n",
      "Epoch 13/13\n",
      "9/9 [==============================] - 0s 8ms/step - loss: 0.8202 - accuracy: 0.6170 - val_loss: 2.1349 - val_accuracy: 0.5373\n"
     ]
    },
    {
     "output_type": "execute_result",
     "data": {
      "text/plain": [
       "<tensorflow.python.keras.callbacks.History at 0x2090a458788>"
      ]
     },
     "metadata": {},
     "execution_count": 106
    }
   ],
   "source": [
    "hypermodel = tuner.hypermodel.build(best_hps)\n",
    "\n",
    "# Retrain the model\n",
    "hypermodel.fit(train_features, train_labels, epochs=best_epoch, validation_split=0.2)"
   ]
  },
  {
   "cell_type": "code",
   "execution_count": 107,
   "metadata": {},
   "outputs": [
    {
     "output_type": "stream",
     "name": "stdout",
     "text": [
      "3/3 [==============================] - 0s 1ms/step - loss: 2.2152 - accuracy: 0.4762\n",
      "[test loss, test accuracy]: [2.215175151824951, 0.4761904776096344]\n"
     ]
    }
   ],
   "source": [
    "eval_result = hypermodel.evaluate(test_features, test_labels)\n",
    "print(\"[test loss, test accuracy]:\", eval_result)"
   ]
  },
  {
   "source": [
    "# Step 5: Save Neural Network Model"
   ],
   "cell_type": "markdown",
   "metadata": {}
  },
  {
   "cell_type": "code",
   "execution_count": 108,
   "metadata": {},
   "outputs": [],
   "source": [
    "import tensorflowjs as tfjs"
   ]
  },
  {
   "cell_type": "code",
   "execution_count": 109,
   "metadata": {},
   "outputs": [],
   "source": [
    "tfjs.converters.save_keras_model(hypermodel, 'stroke_prediction_model')"
   ]
  },
  {
   "cell_type": "code",
   "execution_count": null,
   "metadata": {},
   "outputs": [],
   "source": []
  }
 ]
}