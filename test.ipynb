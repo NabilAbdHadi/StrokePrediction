{
 "cells": [
  {
   "cell_type": "code",
   "execution_count": 53,
   "metadata": {},
   "outputs": [
    {
     "name": "stderr",
     "output_type": "stream",
     "text": [
      "[nltk_data] Downloading package stopwords to C:\\Users\\NABIL-\n",
      "[nltk_data]     PC\\AppData\\Roaming\\nltk_data...\n",
      "[nltk_data]   Package stopwords is already up-to-date!\n",
      "[nltk_data] Downloading package punkt to C:\\Users\\NABIL-\n",
      "[nltk_data]     PC\\AppData\\Roaming\\nltk_data...\n",
      "[nltk_data]   Package punkt is already up-to-date!\n"
     ]
    },
    {
     "data": {
      "text/plain": [
       "True"
      ]
     },
     "execution_count": 53,
     "metadata": {},
     "output_type": "execute_result"
    }
   ],
   "source": [
    "from googletrans import Translator\n",
    "import wikipedia\n",
    "from rake_nltk import Rake\n",
    "import nltk\n",
    "nltk.download('stopwords')\n",
    "nltk.download('punkt')"
   ]
  },
  {
   "cell_type": "code",
   "execution_count": 54,
   "metadata": {},
   "outputs": [
    {
     "name": "stdout",
     "output_type": "stream",
     "text": [
      "Tokyo Medical and Dental University\n"
     ]
    }
   ],
   "source": [
    "translator = Translator()\n",
    "translation = translator.translate(\"東京医科歯科大学\", dest='en')\n",
    "print(translation.text)\n",
    "topic = \"someone\""
   ]
  },
  {
   "cell_type": "code",
   "execution_count": 55,
   "metadata": {},
   "outputs": [
    {
     "data": {
      "text/plain": [
       "\"Tokyo Medical and Dental University (東京医科歯科大学, Tōkyō ika shika daigaku) is part of Japan's national university system. TMDU is one of top 9 Designated National University and selected as a Top Type university of Top Global University Project by the Japanese government.\\nThe university offers baccalaureate and graduate degrees in medicine, dentistry, and related fields.\""
      ]
     },
     "execution_count": 55,
     "metadata": {},
     "output_type": "execute_result"
    }
   ],
   "source": [
    "summary = wikipedia.summary(translation.text)\n",
    "summary"
   ]
  },
  {
   "cell_type": "code",
   "execution_count": 56,
   "metadata": {},
   "outputs": [
    {
     "name": "stdout",
     "output_type": "stream",
     "text": [
      "{'tokyo': 1, 'medical': 1, 'dental': 1, 'university': 6, '東京医科歯科大学': 1, 'tōkyō': 1, 'ika': 1, 'shika': 1, 'daigaku': 1, 'part': 1, 'japan': 1, 'national': 2, 'system': 1, 'tmdu': 1, 'one': 1, 'top': 3, '9': 1, 'designated': 1, 'selected': 1, 'type': 1, 'global': 1, 'project': 1, 'japanese': 1, 'government': 1, 'offers': 1, 'baccalaureate': 1, 'graduate': 1, 'degrees': 1, 'medicine': 1, 'dentistry': 1, 'related': 1, 'fields': 1}\n"
     ]
    }
   ],
   "source": [
    "r = Rake()\n",
    "r.extract_keywords_from_text(summary)\n",
    "keywords = dict(r.get_word_frequency_distribution())\n",
    "print(keywords)\n"
   ]
  },
  {
   "cell_type": "code",
   "execution_count": 57,
   "metadata": {},
   "outputs": [
    {
     "name": "stdout",
     "output_type": "stream",
     "text": [
      "university\n",
      "['university']\n"
     ]
    }
   ],
   "source": [
    "top = max(keywords.values())\n",
    "for k,v in keywords.items():\n",
    "    if v == top:\n",
    "        print(k)\n",
    "\n",
    "print([k for k, v in keywords.items() if v == top])"
   ]
  },
  {
   "cell_type": "code",
   "execution_count": 59,
   "metadata": {},
   "outputs": [
    {
     "data": {
      "text/plain": [
       "'12'"
      ]
     },
     "execution_count": 59,
     "metadata": {},
     "output_type": "execute_result"
    }
   ],
   "source": [
    "z = input(\"what your age?\")\n",
    "z"
   ]
  }
 ],
 "metadata": {
  "interpreter": {
   "hash": "439ed80fefb5595b9b144229ad35c77ede7f13ed2a6185bf03412da0b55ec504"
  },
  "kernelspec": {
   "display_name": "Python 3.7.9 64-bit ('env': venv)",
   "name": "python3"
  },
  "language_info": {
   "codemirror_mode": {
    "name": "ipython",
    "version": 3
   },
   "file_extension": ".py",
   "mimetype": "text/x-python",
   "name": "python",
   "nbconvert_exporter": "python",
   "pygments_lexer": "ipython3",
   "version": "3.7.9"
  },
  "orig_nbformat": 4
 },
 "nbformat": 4,
 "nbformat_minor": 2
}
